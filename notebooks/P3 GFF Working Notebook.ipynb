{
 "cells": [
  {
   "cell_type": "markdown",
   "metadata": {},
   "source": [
    "## Imports"
   ]
  },
  {
   "cell_type": "code",
   "execution_count": 43,
   "metadata": {},
   "outputs": [],
   "source": [
    "import matplotlib.pyplot as plt\n",
    "import numpy as np\n",
    "import pandas as pd\n",
    "import skimage\n",
    "from skimage.segmentation import disk_level_set\n",
    "import os"
   ]
  },
  {
   "cell_type": "markdown",
   "metadata": {},
   "source": [
    "## Paths"
   ]
  },
  {
   "cell_type": "code",
   "execution_count": 3,
   "metadata": {},
   "outputs": [],
   "source": [
    "IMG_PATH = r'C:/Users/ginof/OneDrive - ITU/Documentos/GitHub/fyp2021p3g03/data/example_image/'\n",
    "SEG_PATH = r'C:/Users/ginof/OneDrive - ITU/Documentos/GitHub/fyp2021p3g03/data/example_segmentation/'\n",
    "\n",
    "TRUTH = 'fyp2021p3g03/data/example_ground_truth.csv'\n",
    "FEATURES = 'fyp2021p3g03/features/features.csv'"
   ]
  },
  {
   "cell_type": "markdown",
   "metadata": {},
   "source": [
    "## Import single image and create mask"
   ]
  },
  {
   "cell_type": "code",
   "execution_count": 4,
   "metadata": {},
   "outputs": [],
   "source": [
    "image = plt.imread(SEG_PATH+'ISIC_0001769_segmentation.png')"
   ]
  },
  {
   "cell_type": "code",
   "execution_count": 85,
   "metadata": {},
   "outputs": [
    {
     "data": {
      "text/plain": [
       "<matplotlib.image.AxesImage at 0x20223ece970>"
      ]
     },
     "execution_count": 85,
     "metadata": {},
     "output_type": "execute_result"
    },
    {
     "data": {
      "image/png": "[encoded data removed]",
      "text/plain": [
       "<Figure size 432x288 with 1 Axes>"
      ]
     },
     "metadata": {
      "needs_background": "light"
     },
     "output_type": "display_data"
    }
   ],
   "source": [
    "plt.imshow(image)"
   ]
  },
  {
   "cell_type": "code",
   "execution_count": 175,
   "metadata": {},
   "outputs": [],
   "source": [
    "def get_boundaries(image):\n",
    "    mask = np.where(image == 1)\n",
    "    left = min(mask[1])\n",
    "    right = max(mask[1])\n",
    "    upper = min(mask[0])\n",
    "    lower = max(mask[0])\n",
    "    return upper, lower, left, right\n",
    "\n",
    "def get_center(image): # NOT NEEDED ANYMORE ?\n",
    "    up, dw, lt, rt = get_boundaries(image)\n",
    "    center = ((up+dw)/2, (lt+rt)/2)\n",
    "    return center\n",
    "    \n",
    "def zoom(image):\n",
    "    up, dw, lt, rt = get_boundaries(image)\n",
    "    rectangle = image[up:dw+1, lt:rt+1]\n",
    "    return rectangle\n",
    "\n",
    "def cuts(image):\n",
    "\n",
    "    center_h = image.shape[0] // 2\n",
    "    if image.shape[0] % 2 == 0:\n",
    "        upside = image[:center_h,:]\n",
    "        downside = image[center_h:,:]\n",
    "    else:\n",
    "        upside = image[:center_h+1,:]\n",
    "        downside = image[center_h:,:]\n",
    "        \n",
    "    center_w = image.shape[1] // 2    \n",
    "    if image.shape[1] % 2 == 0:\n",
    "        leftside = image[:,:center_w]\n",
    "        rightside = image[:,center_w:]\n",
    "    else:\n",
    "        leftside = image[:,:center_w+1]\n",
    "        rightside = image[:,center_w:]\n",
    " \n",
    "    return upside, downside, leftside, rightside\n",
    "\n",
    "\n",
    "def test_symmetry(image, show=False):\n",
    "\n",
    "    symmetries = []\n",
    "    \n",
    "    for deg in range(0,90, 30):\n",
    "        rot_image = skimage.transform.rotate(image, deg)\n",
    "        z = zoom(rot_image)\n",
    "        \n",
    "        upside, downside, leftside, rightside = cuts(z)\n",
    "\n",
    "        up_dw = np.sum(np.bitwise_and(upside.astype(int), np.flipud(downside).astype(int))) /\\\n",
    "        np.sum(np.bitwise_or(upside.astype(int), np.flipud(downside).astype(int)))\n",
    "\n",
    "        lt_rt = np.sum(np.bitwise_and(leftside.astype(int), np.fliplr(rightside).astype(int))) /\\\n",
    "        np.sum(np.bitwise_or(leftside.astype(int), np.fliplr(rightside).astype(int)))\n",
    "    \n",
    "        symmetries.append((up_dw+lt_rt)/2)\n",
    "    \n",
    "    symmetry = max(symmetries)\n",
    "\n",
    "    return symmetry\n",
    "    \n"
   ]
  },
  {
   "cell_type": "code",
   "execution_count": 119,
   "metadata": {},
   "outputs": [
    {
     "data": {
      "text/plain": [
       "(521, 688)"
      ]
     },
     "execution_count": 119,
     "metadata": {},
     "output_type": "execute_result"
    },
    {
     "data": {
      "image/png": "[encoded data removed]",
      "text/plain": [
       "<Figure size 432x288 with 1 Axes>"
      ]
     },
     "metadata": {
      "needs_background": "light"
     },
     "output_type": "display_data"
    }
   ],
   "source": [
    "z = zoom(image)\n",
    "a, b, c, d = cuts(z)\n",
    "plt.imshow(z)\n",
    "z.shape"
   ]
  },
  {
   "cell_type": "code",
   "execution_count": 120,
   "metadata": {},
   "outputs": [
    {
     "data": {
      "text/plain": [
       "(521, 344)"
      ]
     },
     "execution_count": 120,
     "metadata": {},
     "output_type": "execute_result"
    },
    {
     "data": {
      "image/png": "[encoded data removed]",
      "text/plain": [
       "<Figure size 432x288 with 1 Axes>"
      ]
     },
     "metadata": {
      "needs_background": "light"
     },
     "output_type": "display_data"
    }
   ],
   "source": [
    "plt.imshow(c)\n",
    "c.shape\n"
   ]
  },
  {
   "cell_type": "code",
   "execution_count": 121,
   "metadata": {},
   "outputs": [
    {
     "data": {
      "text/plain": [
       "(521, 344)"
      ]
     },
     "execution_count": 121,
     "metadata": {},
     "output_type": "execute_result"
    },
    {
     "data": {
      "image/png": "[encoded data removed]",
      "text/plain": [
       "<Figure size 432x288 with 1 Axes>"
      ]
     },
     "metadata": {
      "needs_background": "light"
     },
     "output_type": "display_data"
    }
   ],
   "source": [
    "plt.imshow(d)\n",
    "d.shape"
   ]
  },
  {
   "cell_type": "code",
   "execution_count": 122,
   "metadata": {},
   "outputs": [],
   "source": [
    "symmetries = {}\n",
    "for f in os.listdir(SEG_PATH)[:10]:\n",
    "    if f.endswith('.png'):\n",
    "        image = plt.imread(SEG_PATH+f)\n",
    "        symmetries[f] = test_symmetry(image)\n",
    "    "
   ]
  },
  {
   "cell_type": "code",
   "execution_count": 123,
   "metadata": {},
   "outputs": [
    {
     "data": {
      "text/plain": [
       "{'ISIC_0001769_segmentation.png': 0.7602783631655298,\n",
       " 'ISIC_0001852_segmentation.png': 0.8449745698036415,\n",
       " 'ISIC_0001871_segmentation.png': 0.9168436112478937,\n",
       " 'ISIC_0003462_segmentation.png': 0.9252754206504514,\n",
       " 'ISIC_0003539_segmentation.png': 0.7277153165857638,\n",
       " 'ISIC_0003582_segmentation.png': 0.8198538836056453,\n",
       " 'ISIC_0003657_segmentation.png': 0.864792539195022,\n",
       " 'ISIC_0003805_segmentation.png': 0.8406930951259688,\n",
       " 'ISIC_0004337_segmentation.png': 0.9205542882473023}"
      ]
     },
     "execution_count": 123,
     "metadata": {},
     "output_type": "execute_result"
    }
   ],
   "source": [
    "symmetries"
   ]
  },
  {
   "cell_type": "code",
   "execution_count": 165,
   "metadata": {},
   "outputs": [
    {
     "data": {
      "text/plain": [
       "<matplotlib.image.AxesImage at 0x20224f13130>"
      ]
     },
     "execution_count": 165,
     "metadata": {},
     "output_type": "execute_result"
    },
    {
     "data": {
      "image/png": "[encoded data removed]",
      "text/plain": [
       "<Figure size 432x288 with 1 Axes>"
      ]
     },
     "metadata": {
      "needs_background": "light"
     },
     "output_type": "display_data"
    }
   ],
   "source": [
    "test = plt.imread(SEG_PATH+'test-black-circle.png')\n",
    "plt.imshow(test)"
   ]
  },
  {
   "cell_type": "code",
   "execution_count": 169,
   "metadata": {},
   "outputs": [
    {
     "data": {
      "text/plain": [
       "1.0"
      ]
     },
     "execution_count": 169,
     "metadata": {},
     "output_type": "execute_result"
    }
   ],
   "source": [
    "test_symmetry(test)"
   ]
  },
  {
   "cell_type": "code",
   "execution_count": 178,
   "metadata": {},
   "outputs": [],
   "source": [
    "symmetries = {}\n",
    "for f in os.listdir(SEG_PATH):\n",
    "    if f.endswith('.png'):\n",
    "        image = plt.imread(SEG_PATH+f)\n",
    "        symmetries[f] = test_symmetry(image)\n",
    "    "
   ]
  },
  {
   "cell_type": "code",
   "execution_count": 179,
   "metadata": {
    "scrolled": false
   },
   "outputs": [
    {
     "data": {
      "text/plain": [
       "{'ISIC_0001769_segmentation.png': 0.7602783631655298,\n",
       " 'ISIC_0001852_segmentation.png': 0.8449745698036415,\n",
       " 'ISIC_0001871_segmentation.png': 0.9168436112478937,\n",
       " 'ISIC_0003462_segmentation.png': 0.9252754206504514,\n",
       " 'ISIC_0003539_segmentation.png': 0.7277153165857638,\n",
       " 'ISIC_0003582_segmentation.png': 0.8198538836056453,\n",
       " 'ISIC_0003657_segmentation.png': 0.864792539195022,\n",
       " 'ISIC_0003805_segmentation.png': 0.8406930951259688,\n",
       " 'ISIC_0004337_segmentation.png': 0.9205542882473023,\n",
       " 'ISIC_0006651_segmentation.png': 0.9180263534813962,\n",
       " 'ISIC_0006671_segmentation.png': 0.8696323835877813,\n",
       " 'ISIC_0006815_segmentation.png': 0.7945483932515154,\n",
       " 'ISIC_0006914_segmentation.png': 0.873959001338855,\n",
       " 'ISIC_0007141_segmentation.png': 0.9376931340956733,\n",
       " 'ISIC_0007156_segmentation.png': 0.9426058488319671,\n",
       " 'ISIC_0007235_segmentation.png': 0.9296713438859887,\n",
       " 'ISIC_0007241_segmentation.png': 0.8288205586947341,\n",
       " 'ISIC_0007332_segmentation.png': 0.908944568896474,\n",
       " 'ISIC_0007344_segmentation.png': 0.7734886742235968,\n",
       " 'ISIC_0007528_segmentation.png': 0.8170433460323698,\n",
       " 'ISIC_0007796_segmentation.png': 0.9021874417271982,\n",
       " 'ISIC_0008025_segmentation.png': 0.8715438734340759,\n",
       " 'ISIC_0008524_segmentation.png': 0.6588515725296911,\n",
       " 'ISIC_0009995_segmentation.png': 0.930100409432448,\n",
       " 'ISIC_0010459_segmentation.png': 0.9271371030938866,\n",
       " 'ISIC_0012099_segmentation.png': 0.8970180872535157,\n",
       " 'ISIC_0012109_segmentation.png': 0.7659393588319883,\n",
       " 'ISIC_0012126_segmentation.png': 0.7716426729978056,\n",
       " 'ISIC_0012127_segmentation.png': 0.7799367163656783,\n",
       " 'ISIC_0012143_segmentation.png': 0.8255534031569594,\n",
       " 'ISIC_0012151_segmentation.png': 0.7827502846303749,\n",
       " 'ISIC_0012159_segmentation.png': 0.7176839565844523,\n",
       " 'ISIC_0012160_segmentation.png': 0.6611014899549659,\n",
       " 'ISIC_0012191_segmentation.png': 0.7764659074402575,\n",
       " 'ISIC_0012201_segmentation.png': 0.8613440607685565,\n",
       " 'ISIC_0012204_segmentation.png': 0.7890295400715684,\n",
       " 'ISIC_0012206_segmentation.png': 0.7960380201562754,\n",
       " 'ISIC_0012210_segmentation.png': 0.7146032099642694,\n",
       " 'ISIC_0012221_segmentation.png': 0.913251592464084,\n",
       " 'ISIC_0012222_segmentation.png': 0.7813854776809169,\n",
       " 'ISIC_0012254_segmentation.png': 0.8538849599043672,\n",
       " 'ISIC_0012256_segmentation.png': 0.7630080387557561,\n",
       " 'ISIC_0012288_segmentation.png': 0.7894455934905535,\n",
       " 'ISIC_0012306_segmentation.png': 0.8685740612436148,\n",
       " 'ISIC_0012313_segmentation.png': 0.875769205048097,\n",
       " 'ISIC_0012316_segmentation.png': 0.8510232951337033,\n",
       " 'ISIC_0012335_segmentation.png': 0.8230555690121115,\n",
       " 'ISIC_0012380_segmentation.png': 0.8583743710853886,\n",
       " 'ISIC_0012383_segmentation.png': 0.8771189052431556,\n",
       " 'ISIC_0012400_segmentation.png': 0.755807736073394,\n",
       " 'ISIC_0012417_segmentation.png': 0.8428903490550144,\n",
       " 'ISIC_0012434_segmentation.png': 0.853825291851094,\n",
       " 'ISIC_0012492_segmentation.png': 0.8508653587605763,\n",
       " 'ISIC_0012513_segmentation.png': 0.8790759877284099,\n",
       " 'ISIC_0012538_segmentation.png': 0.7970581523987676,\n",
       " 'ISIC_0012547_segmentation.png': 0.8463153107748281,\n",
       " 'ISIC_0012660_segmentation.png': 0.7967956603714339,\n",
       " 'ISIC_0012684_segmentation.png': 0.7998244729211967,\n",
       " 'ISIC_0012720_segmentation.png': 0.7852401637964073,\n",
       " 'ISIC_0012746_segmentation.png': 0.8037472588598383,\n",
       " 'ISIC_0012876_segmentation.png': 0.8471823233918996,\n",
       " 'ISIC_0012927_segmentation.png': 0.7891513397091677,\n",
       " 'ISIC_0012956_segmentation.png': 0.8742556087366917,\n",
       " 'ISIC_0012959_segmentation.png': 0.9272640469500416,\n",
       " 'ISIC_0012965_segmentation.png': 0.9120879020139688,\n",
       " 'ISIC_0013010_segmentation.png': 0.8892966397883619,\n",
       " 'ISIC_0013082_segmentation.png': 0.9123085902685854,\n",
       " 'ISIC_0013104_segmentation.png': 0.771043699068233,\n",
       " 'ISIC_0013127_segmentation.png': 0.7823819810109756,\n",
       " 'ISIC_0013128_segmentation.png': 0.7751972781446713,\n",
       " 'ISIC_0013132_segmentation.png': 0.8493667803634355,\n",
       " 'ISIC_0013188_segmentation.png': 0.9529289569564288,\n",
       " 'ISIC_0013215_segmentation.png': 0.8531995823053478,\n",
       " 'ISIC_0013232_segmentation.png': 0.6881418926374114,\n",
       " 'ISIC_0013421_segmentation.png': 0.8346935141404777,\n",
       " 'ISIC_0013491_segmentation.png': 0.8900435793860518,\n",
       " 'ISIC_0013501_segmentation.png': 0.8756937021049515,\n",
       " 'ISIC_0013518_segmentation.png': 0.8429993503588111,\n",
       " 'ISIC_0013527_segmentation.png': 0.7030669526127997,\n",
       " 'ISIC_0013549_segmentation.png': 0.8085768793553819,\n",
       " 'ISIC_0013561_segmentation.png': 0.8721169447146726,\n",
       " 'ISIC_0013562_segmentation.png': 0.8813470236949089,\n",
       " 'ISIC_0013632_segmentation.png': 0.9102874906769589,\n",
       " 'ISIC_0013637_segmentation.png': 0.9117417189704657,\n",
       " 'ISIC_0013644_segmentation.png': 0.765203735647497,\n",
       " 'ISIC_0013651_segmentation.png': 0.8434343410241314,\n",
       " 'ISIC_0013663_segmentation.png': 0.6701910872403115,\n",
       " 'ISIC_0013702_segmentation.png': 0.8209391972005295,\n",
       " 'ISIC_0013736_segmentation.png': 0.8417436447575743,\n",
       " 'ISIC_0013793_segmentation.png': 0.6684123541925362,\n",
       " 'ISIC_0013828_segmentation.png': 0.8184080666976798,\n",
       " 'ISIC_0013863_segmentation.png': 0.7623911018655334,\n",
       " 'ISIC_0013898_segmentation.png': 0.8523787359593249,\n",
       " 'ISIC_0013945_segmentation.png': 0.7002318096191724,\n",
       " 'ISIC_0014037_segmentation.png': 0.7102311425652198,\n",
       " 'ISIC_0014038_segmentation.png': 0.7921890914517419,\n",
       " 'ISIC_0014055_segmentation.png': 0.8584699328712804,\n",
       " 'ISIC_0014139_segmentation.png': 0.8534112047077391,\n",
       " 'ISIC_0014162_segmentation.png': 0.7836637816269734,\n",
       " 'ISIC_0014178_segmentation.png': 0.6701770704665962,\n",
       " 'ISIC_0014211_segmentation.png': 0.8185525429480922,\n",
       " 'ISIC_0014212_segmentation.png': 0.6748490876320443,\n",
       " 'ISIC_0014217_segmentation.png': 0.785147209939716,\n",
       " 'ISIC_0014302_segmentation.png': 0.6913169402533759,\n",
       " 'ISIC_0014310_segmentation.png': 0.9458914004598052,\n",
       " 'ISIC_0014382_segmentation.png': 0.7586582347106016,\n",
       " 'ISIC_0014428_segmentation.png': 0.937260819400983,\n",
       " 'ISIC_0014558_segmentation.png': 0.7622903147425255,\n",
       " 'ISIC_0014568_segmentation.png': 0.9046382386261385,\n",
       " 'ISIC_0014572_segmentation.png': 0.8446180194041226,\n",
       " 'ISIC_0014597_segmentation.png': 0.8537723410265314,\n",
       " 'ISIC_0014601_segmentation.png': 0.8676241847704245,\n",
       " 'ISIC_0014608_segmentation.png': 0.6923385052644973,\n",
       " 'ISIC_0014610_segmentation.png': 0.7050074388951374,\n",
       " 'ISIC_0014611_segmentation.png': 0.8324885146985166,\n",
       " 'ISIC_0014616_segmentation.png': 0.8753232908098383,\n",
       " 'ISIC_0014618_segmentation.png': 0.6253193175139666,\n",
       " 'ISIC_0014620_segmentation.png': 0.8847347309080229,\n",
       " 'ISIC_0014623_segmentation.png': 0.8915258269064859,\n",
       " 'ISIC_0014624_segmentation.png': 0.7083799374490429,\n",
       " 'ISIC_0014633_segmentation.png': 0.8129367571112049,\n",
       " 'ISIC_0014635_segmentation.png': 0.7924005981161947,\n",
       " 'ISIC_0014637_segmentation.png': 0.8090868601082555,\n",
       " 'ISIC_0014688_segmentation.png': 0.8384441408672981,\n",
       " 'ISIC_0014712_segmentation.png': 0.8890305342030522,\n",
       " 'ISIC_0014809_segmentation.png': 0.8097800241786767,\n",
       " 'ISIC_0014829_segmentation.png': 0.7459973895262346,\n",
       " 'ISIC_0014857_segmentation.png': 0.841936940005096,\n",
       " 'ISIC_0014931_segmentation.png': 0.7755492637321431,\n",
       " 'ISIC_0014937_segmentation.png': 0.925931054514796,\n",
       " 'ISIC_0014945_segmentation.png': 0.7898053664560031,\n",
       " 'ISIC_0014946_segmentation.png': 0.8779992853317322,\n",
       " 'ISIC_0014979_segmentation.png': 0.8003606056370287,\n",
       " 'ISIC_0014985_segmentation.png': 0.7326610232384019,\n",
       " 'ISIC_0014989_segmentation.png': 0.8168774815484592,\n",
       " 'ISIC_0015043_segmentation.png': 0.9151260788144503,\n",
       " 'ISIC_0015062_segmentation.png': 0.9497770892266129,\n",
       " 'ISIC_0015124_segmentation.png': 0.8294369549790789,\n",
       " 'ISIC_0015144_segmentation.png': 0.8929571835414222,\n",
       " 'ISIC_0015211_segmentation.png': 0.8315468411265798,\n",
       " 'ISIC_0015243_segmentation.png': 0.8742089019240638,\n",
       " 'ISIC_0015256_segmentation.png': 0.8885651350403659,\n",
       " 'ISIC_0015313_segmentation.png': 0.8946122908508528,\n",
       " 'ISIC_0015372_segmentation.png': 0.8527486928979271,\n",
       " 'ISIC_0015401_segmentation.png': 0.7934169568855398,\n",
       " 'ISIC_0015443_segmentation.png': 0.8864344787201976,\n",
       " 'ISIC_0015445_segmentation.png': 0.36830805856834026,\n",
       " 'ISIC_0015483_segmentation.png': 0.9109678015613437,\n",
       " 'ISIC_0015496_segmentation.png': 0.8842876544375713,\n",
       " 'ISIC_0015627_segmentation.png': 0.804574889036741,\n",
       " 'test-black-circle.png': 1.0}"
      ]
     },
     "execution_count": 179,
     "metadata": {},
     "output_type": "execute_result"
    }
   ],
   "source": [
    "symmetries"
   ]
  },
  {
   "cell_type": "code",
   "execution_count": 184,
   "metadata": {},
   "outputs": [],
   "source": [
    "with open(\"symmetry_results.csv\", 'w') as outfile:\n",
    "    for k, v in symmetries.items():\n",
    "        line = str(k) + \"\\t\" + str(v) + \"\\n\"\n",
    "        outfile.write(line)"
   ]
  },
  {
   "cell_type": "code",
   "execution_count": null,
   "metadata": {},
   "outputs": [],
   "source": []
  }
 ],
 "metadata": {
  "kernelspec": {
   "display_name": "Python 3",
   "language": "python",
   "name": "python3"
  },
  "language_info": {
   "codemirror_mode": {
    "name": "ipython",
    "version": 3
   },
   "file_extension": ".py",
   "mimetype": "text/x-python",
   "name": "python",
   "nbconvert_exporter": "python",
   "pygments_lexer": "ipython3",
   "version": "3.8.5"
  }
 },
 "nbformat": 4,
 "nbformat_minor": 4
}
