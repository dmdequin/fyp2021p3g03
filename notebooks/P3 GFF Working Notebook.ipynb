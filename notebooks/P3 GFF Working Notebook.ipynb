{
 "cells": [
  {
   "cell_type": "markdown",
   "metadata": {},
   "source": [
    "## Imports"
   ]
  },
  {
   "cell_type": "code",
   "execution_count": 3,
   "metadata": {},
   "outputs": [],
   "source": [
    "import matplotlib.pyplot as plt\n",
    "import numpy as np\n",
    "import pandas as pd\n",
    "import skimage\n",
    "from skimage.segmentation import disk_level_set\n",
    "import os\n",
    "from PIL import Image"
   ]
  },
  {
   "cell_type": "markdown",
   "metadata": {},
   "source": [
    "## Paths"
   ]
  },
  {
   "cell_type": "code",
   "execution_count": 2,
   "metadata": {},
   "outputs": [],
   "source": [
    "IMG_PATH = r'C:/Users/ginof/OneDrive - ITU/Documentos/GitHub/fyp2021p3g03/data/example_image/'\n",
    "SEG_PATH = r'C:/Users/ginof/OneDrive - ITU/Documentos/GitHub/fyp2021p3g03/data/example_segmentation/'\n",
    "\n",
    "TRUTH = 'fyp2021p3g03/data/example_ground_truth.csv'\n",
    "FEATURES = 'fyp2021p3g03/features/features.csv'"
   ]
  },
  {
   "cell_type": "markdown",
   "metadata": {},
   "source": [
    "## Import single image and create mask"
   ]
  },
  {
   "cell_type": "code",
   "execution_count": 4,
   "metadata": {},
   "outputs": [],
   "source": [
    "image = plt.imread(SEG_PATH+'ISIC_0001769_segmentation.png')"
   ]
  },
  {
   "cell_type": "code",
   "execution_count": 85,
   "metadata": {},
   "outputs": [
    {
     "data": {
      "text/plain": [
       "<matplotlib.image.AxesImage at 0x20223ece970>"
      ]
     },
     "execution_count": 85,
     "metadata": {},
     "output_type": "execute_result"
    },
    {
     "data": {
      "image/png": "[encoded data removed]",
      "text/plain": [
       "<Figure size 432x288 with 1 Axes>"
      ]
     },
     "metadata": {
      "needs_background": "light"
     },
     "output_type": "display_data"
    }
   ],
   "source": [
    "plt.imshow(image)"
   ]
  },
  {
   "cell_type": "code",
   "execution_count": 146,
   "metadata": {},
   "outputs": [],
   "source": [
    "def get_boundaries(image):\n",
    "    mask = np.where(image == 1)\n",
    "    left = min(mask[1])\n",
    "    right = max(mask[1])\n",
    "    upper = min(mask[0])\n",
    "    lower = max(mask[0])\n",
    "    return upper, lower, left, right\n",
    "\n",
    "def get_center(image): # NOT NEEDED ANYMORE ?\n",
    "    up, dw, lt, rt = get_boundaries(image)\n",
    "    center = ((up+dw)/2, (lt+rt)/2)\n",
    "    return center\n",
    "    \n",
    "def zoom(image):\n",
    "    up, dw, lt, rt = get_boundaries(image)\n",
    "    rectangle = image[up:dw+1, lt:rt+1]\n",
    "    return rectangle\n",
    "\n",
    "def cuts(image):\n",
    "\n",
    "    center_h = image.shape[0] // 2\n",
    "    if image.shape[0] % 2 == 0:\n",
    "        upside = image[:center_h,:]\n",
    "        downside = image[center_h:,:]\n",
    "    else:\n",
    "        upside = image[:center_h+1,:]\n",
    "        downside = image[center_h:,:]\n",
    "        \n",
    "    center_w = image.shape[1] // 2    \n",
    "    if image.shape[1] % 2 == 0:\n",
    "        leftside = image[:,:center_w]\n",
    "        rightside = image[:,center_w:]\n",
    "    else:\n",
    "        leftside = image[:,:center_w+1]\n",
    "        rightside = image[:,center_w:]\n",
    " \n",
    "    return upside, downside, leftside, rightside\n",
    "\n",
    "\n",
    "def test_symmetry(image, show=False):\n",
    "\n",
    "    symmetries = []\n",
    "    \n",
    "    for deg in range(0,90, 30):\n",
    "        rot_image = skimage.transform.rotate(image, deg)\n",
    "        z = zoom(rot_image)\n",
    "        \n",
    "        upside, downside, leftside, rightside = cuts(z)\n",
    "\n",
    "        up_dw = np.sum(np.bitwise_and(upside.astype(int), np.flipud(downside).astype(int))) /\\\n",
    "        np.sum(np.bitwise_or(upside.astype(int), np.flipud(downside).astype(int)))\n",
    "\n",
    "        lt_rt = np.sum(np.bitwise_and(leftside.astype(int), np.fliplr(rightside).astype(int))) /\\\n",
    "        np.sum(np.bitwise_or(leftside.astype(int), np.fliplr(rightside).astype(int)))\n",
    "    \n",
    "        symmetries.append((up_dw+lt_rt)/2)\n",
    "    \n",
    "    symmetry = max(symmetries)\n",
    "\n",
    "    return symmetry\n",
    "    \n",
    "def rgb2gray(rgb):\n",
    "    return np.dot(rgb[...,:3], [0.2989, 0.5870, 0.1140])\n",
    "\n",
    "def get_mask(image):\n",
    "    gray = rgb2gray(image)\n",
    "    plt.hist(gray)\n",
    "\n",
    "def crop(image, mask):\n",
    "    img = image.copy()\n",
    "    img[mask==0] = 0\n",
    "    return img\n",
    "\n",
    "def color_std(image):\n",
    "    try:\n",
    "        R = image[np.where(image[:,:,0] != 0) and np.where(image[:,:,1] != 0) and np.where(image[:,:,2] != 0)][:,0]\n",
    "        G = image[np.where(image[:,:,0] != 0) and np.where(image[:,:,1] != 0) and np.where(image[:,:,2] != 0)][:,1]\n",
    "        B = image[np.where(image[:,:,0] != 0) and np.where(image[:,:,1] != 0) and np.where(image[:,:,2] != 0)][:,2]\n",
    "        #print(np.std(R), np.std(G), np.std(B))\n",
    "        color_std = (np.std(R) + np.std(G) + np.std(B)) /3\n",
    "    except:\n",
    "        color_std = 'NA'\n",
    "    return color_std"
   ]
  },
  {
   "cell_type": "code",
   "execution_count": 122,
   "metadata": {},
   "outputs": [],
   "source": [
    "symmetries = {}\n",
    "for f in os.listdir(SEG_PATH)[:10]:\n",
    "    if f.endswith('.png'):\n",
    "        image = plt.imread(SEG_PATH+f)\n",
    "        symmetries[f] = test_symmetry(image)\n",
    "    "
   ]
  },
  {
   "cell_type": "code",
   "execution_count": 123,
   "metadata": {},
   "outputs": [
    {
     "data": {
      "text/plain": [
       "{'ISIC_0001769_segmentation.png': 0.7602783631655298,\n",
       " 'ISIC_0001852_segmentation.png': 0.8449745698036415,\n",
       " 'ISIC_0001871_segmentation.png': 0.9168436112478937,\n",
       " 'ISIC_0003462_segmentation.png': 0.9252754206504514,\n",
       " 'ISIC_0003539_segmentation.png': 0.7277153165857638,\n",
       " 'ISIC_0003582_segmentation.png': 0.8198538836056453,\n",
       " 'ISIC_0003657_segmentation.png': 0.864792539195022,\n",
       " 'ISIC_0003805_segmentation.png': 0.8406930951259688,\n",
       " 'ISIC_0004337_segmentation.png': 0.9205542882473023}"
      ]
     },
     "execution_count": 123,
     "metadata": {},
     "output_type": "execute_result"
    }
   ],
   "source": [
    "symmetries"
   ]
  },
  {
   "cell_type": "code",
   "execution_count": 165,
   "metadata": {},
   "outputs": [
    {
     "data": {
      "text/plain": [
       "<matplotlib.image.AxesImage at 0x20224f13130>"
      ]
     },
     "execution_count": 165,
     "metadata": {},
     "output_type": "execute_result"
    },
    {
     "data": {
      "image/png": "[encoded data removed]",
      "text/plain": [
       "<Figure size 432x288 with 1 Axes>"
      ]
     },
     "metadata": {
      "needs_background": "light"
     },
     "output_type": "display_data"
    }
   ],
   "source": [
    "test = plt.imread(SEG_PATH+'test-black-circle.png')\n",
    "plt.imshow(test)"
   ]
  },
  {
   "cell_type": "code",
   "execution_count": 169,
   "metadata": {},
   "outputs": [
    {
     "data": {
      "text/plain": [
       "1.0"
      ]
     },
     "execution_count": 169,
     "metadata": {},
     "output_type": "execute_result"
    }
   ],
   "source": [
    "test_symmetry(test)"
   ]
  },
  {
   "cell_type": "code",
   "execution_count": 178,
   "metadata": {},
   "outputs": [],
   "source": [
    "symmetries = {}\n",
    "for f in os.listdir(SEG_PATH):\n",
    "    if f.endswith('.png'):\n",
    "        image = plt.imread(SEG_PATH+f)\n",
    "        symmetries[f] = test_symmetry(image)\n",
    "    "
   ]
  },
  {
   "cell_type": "code",
   "execution_count": 179,
   "metadata": {
    "scrolled": true
   },
   "outputs": [
    {
     "data": {
      "text/plain": [
       "{'ISIC_0001769_segmentation.png': 0.7602783631655298,\n",
       " 'ISIC_0001852_segmentation.png': 0.8449745698036415,\n",
       " 'ISIC_0001871_segmentation.png': 0.9168436112478937,\n",
       " 'ISIC_0003462_segmentation.png': 0.9252754206504514,\n",
       " 'ISIC_0003539_segmentation.png': 0.7277153165857638,\n",
       " 'ISIC_0003582_segmentation.png': 0.8198538836056453,\n",
       " 'ISIC_0003657_segmentation.png': 0.864792539195022,\n",
       " 'ISIC_0003805_segmentation.png': 0.8406930951259688,\n",
       " 'ISIC_0004337_segmentation.png': 0.9205542882473023,\n",
       " 'ISIC_0006651_segmentation.png': 0.9180263534813962,\n",
       " 'ISIC_0006671_segmentation.png': 0.8696323835877813,\n",
       " 'ISIC_0006815_segmentation.png': 0.7945483932515154,\n",
       " 'ISIC_0006914_segmentation.png': 0.873959001338855,\n",
       " 'ISIC_0007141_segmentation.png': 0.9376931340956733,\n",
       " 'ISIC_0007156_segmentation.png': 0.9426058488319671,\n",
       " 'ISIC_0007235_segmentation.png': 0.9296713438859887,\n",
       " 'ISIC_0007241_segmentation.png': 0.8288205586947341,\n",
       " 'ISIC_0007332_segmentation.png': 0.908944568896474,\n",
       " 'ISIC_0007344_segmentation.png': 0.7734886742235968,\n",
       " 'ISIC_0007528_segmentation.png': 0.8170433460323698,\n",
       " 'ISIC_0007796_segmentation.png': 0.9021874417271982,\n",
       " 'ISIC_0008025_segmentation.png': 0.8715438734340759,\n",
       " 'ISIC_0008524_segmentation.png': 0.6588515725296911,\n",
       " 'ISIC_0009995_segmentation.png': 0.930100409432448,\n",
       " 'ISIC_0010459_segmentation.png': 0.9271371030938866,\n",
       " 'ISIC_0012099_segmentation.png': 0.8970180872535157,\n",
       " 'ISIC_0012109_segmentation.png': 0.7659393588319883,\n",
       " 'ISIC_0012126_segmentation.png': 0.7716426729978056,\n",
       " 'ISIC_0012127_segmentation.png': 0.7799367163656783,\n",
       " 'ISIC_0012143_segmentation.png': 0.8255534031569594,\n",
       " 'ISIC_0012151_segmentation.png': 0.7827502846303749,\n",
       " 'ISIC_0012159_segmentation.png': 0.7176839565844523,\n",
       " 'ISIC_0012160_segmentation.png': 0.6611014899549659,\n",
       " 'ISIC_0012191_segmentation.png': 0.7764659074402575,\n",
       " 'ISIC_0012201_segmentation.png': 0.8613440607685565,\n",
       " 'ISIC_0012204_segmentation.png': 0.7890295400715684,\n",
       " 'ISIC_0012206_segmentation.png': 0.7960380201562754,\n",
       " 'ISIC_0012210_segmentation.png': 0.7146032099642694,\n",
       " 'ISIC_0012221_segmentation.png': 0.913251592464084,\n",
       " 'ISIC_0012222_segmentation.png': 0.7813854776809169,\n",
       " 'ISIC_0012254_segmentation.png': 0.8538849599043672,\n",
       " 'ISIC_0012256_segmentation.png': 0.7630080387557561,\n",
       " 'ISIC_0012288_segmentation.png': 0.7894455934905535,\n",
       " 'ISIC_0012306_segmentation.png': 0.8685740612436148,\n",
       " 'ISIC_0012313_segmentation.png': 0.875769205048097,\n",
       " 'ISIC_0012316_segmentation.png': 0.8510232951337033,\n",
       " 'ISIC_0012335_segmentation.png': 0.8230555690121115,\n",
       " 'ISIC_0012380_segmentation.png': 0.8583743710853886,\n",
       " 'ISIC_0012383_segmentation.png': 0.8771189052431556,\n",
       " 'ISIC_0012400_segmentation.png': 0.755807736073394,\n",
       " 'ISIC_0012417_segmentation.png': 0.8428903490550144,\n",
       " 'ISIC_0012434_segmentation.png': 0.853825291851094,\n",
       " 'ISIC_0012492_segmentation.png': 0.8508653587605763,\n",
       " 'ISIC_0012513_segmentation.png': 0.8790759877284099,\n",
       " 'ISIC_0012538_segmentation.png': 0.7970581523987676,\n",
       " 'ISIC_0012547_segmentation.png': 0.8463153107748281,\n",
       " 'ISIC_0012660_segmentation.png': 0.7967956603714339,\n",
       " 'ISIC_0012684_segmentation.png': 0.7998244729211967,\n",
       " 'ISIC_0012720_segmentation.png': 0.7852401637964073,\n",
       " 'ISIC_0012746_segmentation.png': 0.8037472588598383,\n",
       " 'ISIC_0012876_segmentation.png': 0.8471823233918996,\n",
       " 'ISIC_0012927_segmentation.png': 0.7891513397091677,\n",
       " 'ISIC_0012956_segmentation.png': 0.8742556087366917,\n",
       " 'ISIC_0012959_segmentation.png': 0.9272640469500416,\n",
       " 'ISIC_0012965_segmentation.png': 0.9120879020139688,\n",
       " 'ISIC_0013010_segmentation.png': 0.8892966397883619,\n",
       " 'ISIC_0013082_segmentation.png': 0.9123085902685854,\n",
       " 'ISIC_0013104_segmentation.png': 0.771043699068233,\n",
       " 'ISIC_0013127_segmentation.png': 0.7823819810109756,\n",
       " 'ISIC_0013128_segmentation.png': 0.7751972781446713,\n",
       " 'ISIC_0013132_segmentation.png': 0.8493667803634355,\n",
       " 'ISIC_0013188_segmentation.png': 0.9529289569564288,\n",
       " 'ISIC_0013215_segmentation.png': 0.8531995823053478,\n",
       " 'ISIC_0013232_segmentation.png': 0.6881418926374114,\n",
       " 'ISIC_0013421_segmentation.png': 0.8346935141404777,\n",
       " 'ISIC_0013491_segmentation.png': 0.8900435793860518,\n",
       " 'ISIC_0013501_segmentation.png': 0.8756937021049515,\n",
       " 'ISIC_0013518_segmentation.png': 0.8429993503588111,\n",
       " 'ISIC_0013527_segmentation.png': 0.7030669526127997,\n",
       " 'ISIC_0013549_segmentation.png': 0.8085768793553819,\n",
       " 'ISIC_0013561_segmentation.png': 0.8721169447146726,\n",
       " 'ISIC_0013562_segmentation.png': 0.8813470236949089,\n",
       " 'ISIC_0013632_segmentation.png': 0.9102874906769589,\n",
       " 'ISIC_0013637_segmentation.png': 0.9117417189704657,\n",
       " 'ISIC_0013644_segmentation.png': 0.765203735647497,\n",
       " 'ISIC_0013651_segmentation.png': 0.8434343410241314,\n",
       " 'ISIC_0013663_segmentation.png': 0.6701910872403115,\n",
       " 'ISIC_0013702_segmentation.png': 0.8209391972005295,\n",
       " 'ISIC_0013736_segmentation.png': 0.8417436447575743,\n",
       " 'ISIC_0013793_segmentation.png': 0.6684123541925362,\n",
       " 'ISIC_0013828_segmentation.png': 0.8184080666976798,\n",
       " 'ISIC_0013863_segmentation.png': 0.7623911018655334,\n",
       " 'ISIC_0013898_segmentation.png': 0.8523787359593249,\n",
       " 'ISIC_0013945_segmentation.png': 0.7002318096191724,\n",
       " 'ISIC_0014037_segmentation.png': 0.7102311425652198,\n",
       " 'ISIC_0014038_segmentation.png': 0.7921890914517419,\n",
       " 'ISIC_0014055_segmentation.png': 0.8584699328712804,\n",
       " 'ISIC_0014139_segmentation.png': 0.8534112047077391,\n",
       " 'ISIC_0014162_segmentation.png': 0.7836637816269734,\n",
       " 'ISIC_0014178_segmentation.png': 0.6701770704665962,\n",
       " 'ISIC_0014211_segmentation.png': 0.8185525429480922,\n",
       " 'ISIC_0014212_segmentation.png': 0.6748490876320443,\n",
       " 'ISIC_0014217_segmentation.png': 0.785147209939716,\n",
       " 'ISIC_0014302_segmentation.png': 0.6913169402533759,\n",
       " 'ISIC_0014310_segmentation.png': 0.9458914004598052,\n",
       " 'ISIC_0014382_segmentation.png': 0.7586582347106016,\n",
       " 'ISIC_0014428_segmentation.png': 0.937260819400983,\n",
       " 'ISIC_0014558_segmentation.png': 0.7622903147425255,\n",
       " 'ISIC_0014568_segmentation.png': 0.9046382386261385,\n",
       " 'ISIC_0014572_segmentation.png': 0.8446180194041226,\n",
       " 'ISIC_0014597_segmentation.png': 0.8537723410265314,\n",
       " 'ISIC_0014601_segmentation.png': 0.8676241847704245,\n",
       " 'ISIC_0014608_segmentation.png': 0.6923385052644973,\n",
       " 'ISIC_0014610_segmentation.png': 0.7050074388951374,\n",
       " 'ISIC_0014611_segmentation.png': 0.8324885146985166,\n",
       " 'ISIC_0014616_segmentation.png': 0.8753232908098383,\n",
       " 'ISIC_0014618_segmentation.png': 0.6253193175139666,\n",
       " 'ISIC_0014620_segmentation.png': 0.8847347309080229,\n",
       " 'ISIC_0014623_segmentation.png': 0.8915258269064859,\n",
       " 'ISIC_0014624_segmentation.png': 0.7083799374490429,\n",
       " 'ISIC_0014633_segmentation.png': 0.8129367571112049,\n",
       " 'ISIC_0014635_segmentation.png': 0.7924005981161947,\n",
       " 'ISIC_0014637_segmentation.png': 0.8090868601082555,\n",
       " 'ISIC_0014688_segmentation.png': 0.8384441408672981,\n",
       " 'ISIC_0014712_segmentation.png': 0.8890305342030522,\n",
       " 'ISIC_0014809_segmentation.png': 0.8097800241786767,\n",
       " 'ISIC_0014829_segmentation.png': 0.7459973895262346,\n",
       " 'ISIC_0014857_segmentation.png': 0.841936940005096,\n",
       " 'ISIC_0014931_segmentation.png': 0.7755492637321431,\n",
       " 'ISIC_0014937_segmentation.png': 0.925931054514796,\n",
       " 'ISIC_0014945_segmentation.png': 0.7898053664560031,\n",
       " 'ISIC_0014946_segmentation.png': 0.8779992853317322,\n",
       " 'ISIC_0014979_segmentation.png': 0.8003606056370287,\n",
       " 'ISIC_0014985_segmentation.png': 0.7326610232384019,\n",
       " 'ISIC_0014989_segmentation.png': 0.8168774815484592,\n",
       " 'ISIC_0015043_segmentation.png': 0.9151260788144503,\n",
       " 'ISIC_0015062_segmentation.png': 0.9497770892266129,\n",
       " 'ISIC_0015124_segmentation.png': 0.8294369549790789,\n",
       " 'ISIC_0015144_segmentation.png': 0.8929571835414222,\n",
       " 'ISIC_0015211_segmentation.png': 0.8315468411265798,\n",
       " 'ISIC_0015243_segmentation.png': 0.8742089019240638,\n",
       " 'ISIC_0015256_segmentation.png': 0.8885651350403659,\n",
       " 'ISIC_0015313_segmentation.png': 0.8946122908508528,\n",
       " 'ISIC_0015372_segmentation.png': 0.8527486928979271,\n",
       " 'ISIC_0015401_segmentation.png': 0.7934169568855398,\n",
       " 'ISIC_0015443_segmentation.png': 0.8864344787201976,\n",
       " 'ISIC_0015445_segmentation.png': 0.36830805856834026,\n",
       " 'ISIC_0015483_segmentation.png': 0.9109678015613437,\n",
       " 'ISIC_0015496_segmentation.png': 0.8842876544375713,\n",
       " 'ISIC_0015627_segmentation.png': 0.804574889036741,\n",
       " 'test-black-circle.png': 1.0}"
      ]
     },
     "execution_count": 179,
     "metadata": {},
     "output_type": "execute_result"
    }
   ],
   "source": [
    "symmetries"
   ]
  },
  {
   "cell_type": "code",
   "execution_count": 184,
   "metadata": {},
   "outputs": [],
   "source": [
    "with open(\"symmetry_results.csv\", 'w') as outfile:\n",
    "    for k, v in symmetries.items():\n",
    "        line = str(k) + \"\\t\" + str(v) + \"\\n\"\n",
    "        outfile.write(line)"
   ]
  },
  {
   "cell_type": "code",
   "execution_count": 9,
   "metadata": {},
   "outputs": [],
   "source": [
    "# Load images as Image objects  \n",
    "img = Image.open(IMG_PATH + 'ISIC_0001769.jpg') \n",
    "mask = Image.open(SEG_PATH + 'ISIC_0001769_segmentation.png') \n",
    "  \n",
    "# Overlay - more options such as transparency should be available here  \n",
    "mask.paste(img, mask = mask)"
   ]
  },
  {
   "cell_type": "code",
   "execution_count": 61,
   "metadata": {},
   "outputs": [
    {
     "data": {
      "text/plain": [
       "<matplotlib.image.AxesImage at 0x1b20183bb80>"
      ]
     },
     "execution_count": 61,
     "metadata": {},
     "output_type": "execute_result"
    },
    {
     "data": {
      "image/png": "[encoded data removed]",
      "text/plain": [
       "<Figure size 432x288 with 1 Axes>"
      ]
     },
     "metadata": {
      "needs_background": "light"
     },
     "output_type": "display_data"
    }
   ],
   "source": [
    "img = plt.imread(IMG_PATH + 'ISIC_0001769.jpg')\n",
    "mask = plt.imread(SEG_PATH + 'ISIC_0001769_segmentation.png') \n",
    "\n",
    "img = img.copy()\n",
    "img[mask==0] = 0\n",
    "  \n",
    "# Display \n",
    "plt.imshow(img)"
   ]
  },
  {
   "cell_type": "code",
   "execution_count": 98,
   "metadata": {
    "scrolled": false
   },
   "outputs": [],
   "source": [
    "red_mask = img[np.where(img[:,:,0] != 0) and np.where(img[:,:,1] != 0) and np.where(img[:,:,2] != 0)][:,0]\n",
    "green_mask = img[np.where(img[:,:,0] != 0) and np.where(img[:,:,1] != 0) and np.where(img[:,:,2] != 0)][:,1]\n",
    "blue_mask = img[np.where(img[:,:,0] != 0) and np.where(img[:,:,1] != 0) and np.where(img[:,:,2] != 0)][:,2]"
   ]
  },
  {
   "cell_type": "code",
   "execution_count": 111,
   "metadata": {},
   "outputs": [],
   "source": [
    "red_std = np.std(red_mask)\n",
    "green_std = np.std(green_mask)\n",
    "blue_std = np.std(blue_mask)\n",
    "color_std = (red_std + green_std + blue_std) / 3"
   ]
  },
  {
   "cell_type": "code",
   "execution_count": 124,
   "metadata": {},
   "outputs": [
    {
     "data": {
      "text/plain": [
       "16.950563878590646"
      ]
     },
     "execution_count": 124,
     "metadata": {},
     "output_type": "execute_result"
    }
   ],
   "source": [
    "color_std(img)"
   ]
  },
  {
   "cell_type": "code",
   "execution_count": 147,
   "metadata": {
    "scrolled": false
   },
   "outputs": [
    {
     "name": "stdout",
     "output_type": "stream",
     "text": [
      "Getting color difference for :ISIC_0001769.jpg\n",
      "Getting color difference for :ISIC_0001852.jpg\n",
      "Getting color difference for :ISIC_0001871.jpg\n",
      "Getting color difference for :ISIC_0003462.jpg\n",
      "Getting color difference for :ISIC_0003539.jpg\n",
      "Getting color difference for :ISIC_0003582.jpg\n",
      "Getting color difference for :ISIC_0003657.jpg\n",
      "Getting color difference for :ISIC_0003805.jpg\n",
      "Getting color difference for :ISIC_0004337.jpg\n",
      "Getting color difference for :ISIC_0006651.jpg\n",
      "Getting color difference for :ISIC_0006671.jpg\n",
      "Getting color difference for :ISIC_0006815.jpg\n",
      "Getting color difference for :ISIC_0006914.jpg\n",
      "Getting color difference for :ISIC_0007141.jpg\n",
      "Getting color difference for :ISIC_0007156.jpg\n",
      "Getting color difference for :ISIC_0007235.jpg\n",
      "Getting color difference for :ISIC_0007241.jpg\n",
      "Getting color difference for :ISIC_0007332.jpg\n",
      "Getting color difference for :ISIC_0007344.jpg\n",
      "Getting color difference for :ISIC_0007528.jpg\n",
      "Getting color difference for :ISIC_0007796.jpg\n",
      "Getting color difference for :ISIC_0008025.jpg\n",
      "Getting color difference for :ISIC_0008524.jpg\n",
      "Getting color difference for :ISIC_0009995.jpg\n",
      "Getting color difference for :ISIC_0010459.jpg\n",
      "Getting color difference for :ISIC_0012099.jpg\n",
      "Getting color difference for :ISIC_0012109.jpg\n",
      "Getting color difference for :ISIC_0012126.jpg\n",
      "Getting color difference for :ISIC_0012127.jpg\n",
      "Getting color difference for :ISIC_0012143.jpg\n",
      "Getting color difference for :ISIC_0012151.jpg\n",
      "Getting color difference for :ISIC_0012159.jpg\n",
      "Getting color difference for :ISIC_0012160.jpg\n",
      "Getting color difference for :ISIC_0012191.jpg\n",
      "Getting color difference for :ISIC_0012201.jpg\n",
      "Getting color difference for :ISIC_0012204.jpg\n",
      "Getting color difference for :ISIC_0012206.jpg\n",
      "Getting color difference for :ISIC_0012210.jpg\n",
      "Getting color difference for :ISIC_0012221.jpg\n",
      "Getting color difference for :ISIC_0012222.jpg\n",
      "Getting color difference for :ISIC_0012254.jpg\n",
      "Getting color difference for :ISIC_0012256.jpg\n",
      "Getting color difference for :ISIC_0012288.jpg\n",
      "Getting color difference for :ISIC_0012306.jpg\n",
      "Getting color difference for :ISIC_0012313.jpg\n",
      "Getting color difference for :ISIC_0012316.jpg\n",
      "Getting color difference for :ISIC_0012335.jpg\n",
      "Getting color difference for :ISIC_0012380.jpg\n",
      "Getting color difference for :ISIC_0012383.jpg\n",
      "Getting color difference for :ISIC_0012400.jpg\n",
      "Getting color difference for :ISIC_0012417.jpg\n",
      "Getting color difference for :ISIC_0012434.jpg\n",
      "Getting color difference for :ISIC_0012492.jpg\n",
      "Getting color difference for :ISIC_0012513.jpg\n",
      "Getting color difference for :ISIC_0012538.jpg\n",
      "Getting color difference for :ISIC_0012547.jpg\n",
      "Getting color difference for :ISIC_0012660.jpg\n",
      "Getting color difference for :ISIC_0012684.jpg\n",
      "Getting color difference for :ISIC_0012720.jpg\n",
      "Getting color difference for :ISIC_0012746.jpg\n",
      "Getting color difference for :ISIC_0012876.jpg\n",
      "Getting color difference for :ISIC_0012927.jpg\n",
      "Getting color difference for :ISIC_0012956.jpg\n",
      "Getting color difference for :ISIC_0012959.jpg\n",
      "Getting color difference for :ISIC_0012965.jpg\n",
      "Getting color difference for :ISIC_0013010.jpg\n",
      "Getting color difference for :ISIC_0013082.jpg\n",
      "Getting color difference for :ISIC_0013104.jpg\n",
      "Getting color difference for :ISIC_0013127.jpg\n",
      "Getting color difference for :ISIC_0013128.jpg\n",
      "Getting color difference for :ISIC_0013132.jpg\n",
      "Getting color difference for :ISIC_0013188.jpg\n",
      "Getting color difference for :ISIC_0013215.jpg\n",
      "Getting color difference for :ISIC_0013232.jpg\n",
      "Getting color difference for :ISIC_0013421.jpg\n",
      "Getting color difference for :ISIC_0013491.jpg\n",
      "Getting color difference for :ISIC_0013501.jpg\n",
      "Getting color difference for :ISIC_0013518.jpg\n",
      "Getting color difference for :ISIC_0013527.jpg\n",
      "Getting color difference for :ISIC_0013549.jpg\n",
      "Getting color difference for :ISIC_0013561.jpg\n",
      "Getting color difference for :ISIC_0013562.jpg\n",
      "Getting color difference for :ISIC_0013632.jpg\n",
      "Getting color difference for :ISIC_0013637.jpg\n",
      "Getting color difference for :ISIC_0013644.jpg\n",
      "Getting color difference for :ISIC_0013651.jpg\n",
      "Getting color difference for :ISIC_0013663.jpg\n",
      "Getting color difference for :ISIC_0013702.jpg\n",
      "Getting color difference for :ISIC_0013736.jpg\n",
      "Getting color difference for :ISIC_0013793.jpg\n",
      "Getting color difference for :ISIC_0013828.jpg\n",
      "Getting color difference for :ISIC_0013863.jpg\n",
      "Getting color difference for :ISIC_0013898.jpg\n",
      "Getting color difference for :ISIC_0013945.jpg\n",
      "Getting color difference for :ISIC_0014037.jpg\n",
      "Getting color difference for :ISIC_0014038.jpg\n",
      "Getting color difference for :ISIC_0014055.jpg\n",
      "Getting color difference for :ISIC_0014139.jpg\n",
      "Getting color difference for :ISIC_0014162.jpg\n",
      "Getting color difference for :ISIC_0014178.jpg\n",
      "Getting color difference for :ISIC_0014211.jpg\n",
      "Getting color difference for :ISIC_0014212.jpg\n",
      "Getting color difference for :ISIC_0014217.jpg\n",
      "Getting color difference for :ISIC_0014302.jpg\n",
      "Getting color difference for :ISIC_0014310.jpg\n",
      "Getting color difference for :ISIC_0014382.jpg\n",
      "Getting color difference for :ISIC_0014428.jpg\n",
      "Getting color difference for :ISIC_0014558.jpg\n",
      "Getting color difference for :ISIC_0014568.jpg\n",
      "Getting color difference for :ISIC_0014572.jpg\n",
      "Getting color difference for :ISIC_0014597.jpg\n",
      "Getting color difference for :ISIC_0014601.jpg\n",
      "Getting color difference for :ISIC_0014608.jpg\n",
      "Getting color difference for :ISIC_0014610.jpg\n",
      "Getting color difference for :ISIC_0014611.jpg\n",
      "Getting color difference for :ISIC_0014616.jpg\n",
      "Getting color difference for :ISIC_0014618.jpg\n",
      "Getting color difference for :ISIC_0014620.jpg\n",
      "Getting color difference for :ISIC_0014623.jpg\n",
      "Getting color difference for :ISIC_0014624.jpg\n",
      "Getting color difference for :ISIC_0014633.jpg\n",
      "Getting color difference for :ISIC_0014635.jpg\n",
      "Getting color difference for :ISIC_0014637.jpg\n",
      "Getting color difference for :ISIC_0014688.jpg\n",
      "Getting color difference for :ISIC_0014712.jpg\n",
      "Getting color difference for :ISIC_0014809.jpg\n",
      "Getting color difference for :ISIC_0014829.jpg\n",
      "Getting color difference for :ISIC_0014857.jpg\n",
      "Getting color difference for :ISIC_0014931.jpg\n",
      "Getting color difference for :ISIC_0014937.jpg\n",
      "Getting color difference for :ISIC_0014945.jpg\n",
      "Getting color difference for :ISIC_0014946.jpg\n",
      "Getting color difference for :ISIC_0014979.jpg\n",
      "Getting color difference for :ISIC_0014985.jpg\n",
      "Getting color difference for :ISIC_0014989.jpg\n",
      "Getting color difference for :ISIC_0015043.jpg\n",
      "Getting color difference for :ISIC_0015062.jpg\n",
      "Getting color difference for :ISIC_0015124.jpg\n",
      "Getting color difference for :ISIC_0015144.jpg\n",
      "Getting color difference for :ISIC_0015211.jpg\n",
      "Getting color difference for :ISIC_0015243.jpg\n",
      "Getting color difference for :ISIC_0015256.jpg\n",
      "Getting color difference for :ISIC_0015313.jpg\n",
      "Getting color difference for :ISIC_0015372.jpg\n",
      "Getting color difference for :ISIC_0015401.jpg\n",
      "Getting color difference for :ISIC_0015443.jpg\n",
      "Getting color difference for :ISIC_0015445.jpg\n",
      "Getting color difference for :ISIC_0015483.jpg\n",
      "Getting color difference for :ISIC_0015496.jpg\n",
      "Getting color difference for :ISIC_0015627.jpg\n"
     ]
    }
   ],
   "source": [
    "color_diff = {}\n",
    "for f in os.listdir(IMG_PATH):\n",
    "    if f.endswith('.jpg'):\n",
    "        cut = f.index('.')\n",
    "        name = f[:cut]\n",
    "        image = plt.imread(IMG_PATH+f)\n",
    "        mask = plt.imread(SEG_PATH+name+'_segmentation.png')\n",
    "        image = crop(image, mask)\n",
    "        print(\"Getting color difference for :\"+f)\n",
    "        color_diff[f] = color_std(image)"
   ]
  },
  {
   "cell_type": "code",
   "execution_count": 148,
   "metadata": {
    "scrolled": false
   },
   "outputs": [
    {
     "data": {
      "text/plain": [
       "{'ISIC_0001769.jpg': 16.950563878590646,\n",
       " 'ISIC_0001852.jpg': 29.48429724784702,\n",
       " 'ISIC_0001871.jpg': 12.901346174200162,\n",
       " 'ISIC_0003462.jpg': 25.24461330285855,\n",
       " 'ISIC_0003539.jpg': 29.05465372053313,\n",
       " 'ISIC_0003582.jpg': 31.443984642809074,\n",
       " 'ISIC_0003657.jpg': 13.836491704605146,\n",
       " 'ISIC_0003805.jpg': 19.11071882041981,\n",
       " 'ISIC_0004337.jpg': 16.18850579215437,\n",
       " 'ISIC_0006651.jpg': 25.95434469170338,\n",
       " 'ISIC_0006671.jpg': 10.060431547261901,\n",
       " 'ISIC_0006815.jpg': 11.654023484955632,\n",
       " 'ISIC_0006914.jpg': 16.393666542027773,\n",
       " 'ISIC_0007141.jpg': 25.37939978818497,\n",
       " 'ISIC_0007156.jpg': 33.83707293470419,\n",
       " 'ISIC_0007235.jpg': 21.345505368927338,\n",
       " 'ISIC_0007241.jpg': 26.637406428035337,\n",
       " 'ISIC_0007332.jpg': 28.64244736886702,\n",
       " 'ISIC_0007344.jpg': 23.25981314069732,\n",
       " 'ISIC_0007528.jpg': 17.349576568832102,\n",
       " 'ISIC_0007796.jpg': 23.896785979978798,\n",
       " 'ISIC_0008025.jpg': 15.761297482425036,\n",
       " 'ISIC_0008524.jpg': 11.20873879888129,\n",
       " 'ISIC_0009995.jpg': 20.940162591340503,\n",
       " 'ISIC_0010459.jpg': 19.473830929060725,\n",
       " 'ISIC_0012099.jpg': 42.17936038924655,\n",
       " 'ISIC_0012109.jpg': 30.46265329752809,\n",
       " 'ISIC_0012126.jpg': 30.567843269411288,\n",
       " 'ISIC_0012127.jpg': 22.916055051525365,\n",
       " 'ISIC_0012143.jpg': 15.402394168910833,\n",
       " 'ISIC_0012151.jpg': 18.8737483284374,\n",
       " 'ISIC_0012159.jpg': 7.146102848133869,\n",
       " 'ISIC_0012160.jpg': 8.154035575676257,\n",
       " 'ISIC_0012191.jpg': 26.14560684062566,\n",
       " 'ISIC_0012201.jpg': 24.576714321465317,\n",
       " 'ISIC_0012204.jpg': 12.303673735930943,\n",
       " 'ISIC_0012206.jpg': 23.731618866030203,\n",
       " 'ISIC_0012210.jpg': 6.5869872835136825,\n",
       " 'ISIC_0012221.jpg': 22.097617556137067,\n",
       " 'ISIC_0012222.jpg': 26.82378396258001,\n",
       " 'ISIC_0012254.jpg': 10.129430174980955,\n",
       " 'ISIC_0012256.jpg': 4.181144212112873,\n",
       " 'ISIC_0012288.jpg': 18.443973397639827,\n",
       " 'ISIC_0012306.jpg': 21.935042089105167,\n",
       " 'ISIC_0012313.jpg': 22.88269723726025,\n",
       " 'ISIC_0012316.jpg': 25.32044528439717,\n",
       " 'ISIC_0012335.jpg': 20.426434438655782,\n",
       " 'ISIC_0012380.jpg': 17.290731790316002,\n",
       " 'ISIC_0012383.jpg': 9.153497997367877,\n",
       " 'ISIC_0012400.jpg': 20.990688146542656,\n",
       " 'ISIC_0012417.jpg': 12.145458318062083,\n",
       " 'ISIC_0012434.jpg': 20.627780363233843,\n",
       " 'ISIC_0012492.jpg': 8.897840060220739,\n",
       " 'ISIC_0012513.jpg': 12.084197169665579,\n",
       " 'ISIC_0012538.jpg': 22.31395107130831,\n",
       " 'ISIC_0012547.jpg': 17.493956683226248,\n",
       " 'ISIC_0012660.jpg': 25.034882178297977,\n",
       " 'ISIC_0012684.jpg': 26.5711264569722,\n",
       " 'ISIC_0012720.jpg': 15.89360581970159,\n",
       " 'ISIC_0012746.jpg': 24.422055014957692,\n",
       " 'ISIC_0012876.jpg': 12.93801581166241,\n",
       " 'ISIC_0012927.jpg': 30.5730302208885,\n",
       " 'ISIC_0012956.jpg': 23.660584001716515,\n",
       " 'ISIC_0012959.jpg': 12.760861635517236,\n",
       " 'ISIC_0012965.jpg': 41.6339975620143,\n",
       " 'ISIC_0013010.jpg': 25.03122177224226,\n",
       " 'ISIC_0013082.jpg': 21.5000749080197,\n",
       " 'ISIC_0013104.jpg': 19.81923541572507,\n",
       " 'ISIC_0013127.jpg': 17.43634337438937,\n",
       " 'ISIC_0013128.jpg': 20.074343939410074,\n",
       " 'ISIC_0013132.jpg': 23.60366917507719,\n",
       " 'ISIC_0013188.jpg': 32.083497668772786,\n",
       " 'ISIC_0013215.jpg': 15.586572637263894,\n",
       " 'ISIC_0013232.jpg': 31.05420225101179,\n",
       " 'ISIC_0013421.jpg': 26.42266139339048,\n",
       " 'ISIC_0013491.jpg': 21.133712552069536,\n",
       " 'ISIC_0013501.jpg': 19.53291362463365,\n",
       " 'ISIC_0013518.jpg': 10.104525796311083,\n",
       " 'ISIC_0013527.jpg': 23.486727016300193,\n",
       " 'ISIC_0013549.jpg': 27.06210806617331,\n",
       " 'ISIC_0013561.jpg': 14.997501695197606,\n",
       " 'ISIC_0013562.jpg': 11.246426552573672,\n",
       " 'ISIC_0013632.jpg': 9.372757871890398,\n",
       " 'ISIC_0013637.jpg': 7.648262112125188,\n",
       " 'ISIC_0013644.jpg': 16.75458752916332,\n",
       " 'ISIC_0013651.jpg': 22.238098521743286,\n",
       " 'ISIC_0013663.jpg': 11.104409352044945,\n",
       " 'ISIC_0013702.jpg': 14.25398513893,\n",
       " 'ISIC_0013736.jpg': 11.055902441750016,\n",
       " 'ISIC_0013793.jpg': 22.59968810139023,\n",
       " 'ISIC_0013828.jpg': 11.514885641456962,\n",
       " 'ISIC_0013863.jpg': 16.936865116638778,\n",
       " 'ISIC_0013898.jpg': 20.13899864236091,\n",
       " 'ISIC_0013945.jpg': 6.0106981152594114,\n",
       " 'ISIC_0014037.jpg': 17.244460385887262,\n",
       " 'ISIC_0014038.jpg': 8.045139217517338,\n",
       " 'ISIC_0014055.jpg': 16.487397172270537,\n",
       " 'ISIC_0014139.jpg': 18.369080125822148,\n",
       " 'ISIC_0014162.jpg': 5.400886501983577,\n",
       " 'ISIC_0014178.jpg': 24.66575459099187,\n",
       " 'ISIC_0014211.jpg': 7.329128763085592,\n",
       " 'ISIC_0014212.jpg': 18.041658615881417,\n",
       " 'ISIC_0014217.jpg': 15.88859854749784,\n",
       " 'ISIC_0014302.jpg': 16.08567572485965,\n",
       " 'ISIC_0014310.jpg': 14.707810715686142,\n",
       " 'ISIC_0014382.jpg': 20.201520768660302,\n",
       " 'ISIC_0014428.jpg': 26.935091645626773,\n",
       " 'ISIC_0014558.jpg': 17.77480191773886,\n",
       " 'ISIC_0014568.jpg': 16.48699808957288,\n",
       " 'ISIC_0014572.jpg': 20.8817051736756,\n",
       " 'ISIC_0014597.jpg': 12.129992566011504,\n",
       " 'ISIC_0014601.jpg': 21.749521315138168,\n",
       " 'ISIC_0014608.jpg': 20.42834393621474,\n",
       " 'ISIC_0014610.jpg': 29.678097169466486,\n",
       " 'ISIC_0014611.jpg': 38.444227046489935,\n",
       " 'ISIC_0014616.jpg': 17.973968434295067,\n",
       " 'ISIC_0014618.jpg': 18.56098939286009,\n",
       " 'ISIC_0014620.jpg': 14.777833638968161,\n",
       " 'ISIC_0014623.jpg': 24.961447487221353,\n",
       " 'ISIC_0014624.jpg': 27.793571462561456,\n",
       " 'ISIC_0014633.jpg': 16.106665922646844,\n",
       " 'ISIC_0014635.jpg': 11.389567110673482,\n",
       " 'ISIC_0014637.jpg': 27.366544646312175,\n",
       " 'ISIC_0014688.jpg': 28.61840278644321,\n",
       " 'ISIC_0014712.jpg': 56.10423152461328,\n",
       " 'ISIC_0014809.jpg': 30.108881081554415,\n",
       " 'ISIC_0014829.jpg': 27.287397000978473,\n",
       " 'ISIC_0014857.jpg': 26.921188683156213,\n",
       " 'ISIC_0014931.jpg': 23.963105479795903,\n",
       " 'ISIC_0014937.jpg': 41.2051858872653,\n",
       " 'ISIC_0014945.jpg': 43.532319888692626,\n",
       " 'ISIC_0014946.jpg': 45.431924328753546,\n",
       " 'ISIC_0014979.jpg': 20.872574887160464,\n",
       " 'ISIC_0014985.jpg': 22.810887739446986,\n",
       " 'ISIC_0014989.jpg': 40.23274763240206,\n",
       " 'ISIC_0015043.jpg': 39.64000348511754,\n",
       " 'ISIC_0015062.jpg': 46.135198017284154,\n",
       " 'ISIC_0015124.jpg': 46.227406674515386,\n",
       " 'ISIC_0015144.jpg': 32.844864038162335,\n",
       " 'ISIC_0015211.jpg': 62.16637917857733,\n",
       " 'ISIC_0015243.jpg': 32.56079963221481,\n",
       " 'ISIC_0015256.jpg': 37.45911176997047,\n",
       " 'ISIC_0015313.jpg': 41.35815875198393,\n",
       " 'ISIC_0015372.jpg': 42.591134448146136,\n",
       " 'ISIC_0015401.jpg': 44.296657313056365,\n",
       " 'ISIC_0015443.jpg': 20.98381338404487,\n",
       " 'ISIC_0015445.jpg': 42.595851111271855,\n",
       " 'ISIC_0015483.jpg': 34.96621235049881,\n",
       " 'ISIC_0015496.jpg': 59.22804379382077,\n",
       " 'ISIC_0015627.jpg': 23.19195286256179}"
      ]
     },
     "execution_count": 148,
     "metadata": {},
     "output_type": "execute_result"
    }
   ],
   "source": [
    "color_diff"
   ]
  },
  {
   "cell_type": "code",
   "execution_count": 149,
   "metadata": {},
   "outputs": [],
   "source": [
    "with open(\"color_diff.csv\", 'w') as outfile:\n",
    "    for k, v in color_diff.items():\n",
    "        line = str(k) + \"\\t\" + str(v) + \"\\n\"\n",
    "        outfile.write(line)"
   ]
  },
  {
   "cell_type": "code",
   "execution_count": null,
   "metadata": {},
   "outputs": [],
   "source": []
  }
 ],
 "metadata": {
  "kernelspec": {
   "display_name": "Python 3",
   "language": "python",
   "name": "python3"
  },
  "language_info": {
   "codemirror_mode": {
    "name": "ipython",
    "version": 3
   },
   "file_extension": ".py",
   "mimetype": "text/x-python",
   "name": "python",
   "nbconvert_exporter": "python",
   "pygments_lexer": "ipython3",
   "version": "3.8.5"
  }
 },
 "nbformat": 4,
 "nbformat_minor": 4
}
