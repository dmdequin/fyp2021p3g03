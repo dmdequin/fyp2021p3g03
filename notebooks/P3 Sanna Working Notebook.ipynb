{
 "cells": [
  {
   "cell_type": "markdown",
   "metadata": {},
   "source": [
    "## Imports"
   ]
  },
  {
   "cell_type": "code",
   "execution_count": 1,
   "metadata": {},
   "outputs": [],
   "source": [
    "import matplotlib.pyplot as plt\n",
    "import numpy as np\n",
    "import pandas as pd\n",
    "from math import pi\n",
    "from math import sqrt\n",
    "from skimage import morphology\n",
    "from skimage.morphology import opening\n",
    "from skimage import transform\n",
    "from skimage import filters"
   ]
  },
  {
   "cell_type": "code",
   "execution_count": null,
   "metadata": {},
   "outputs": [],
   "source": []
  },
  {
   "cell_type": "markdown",
   "metadata": {},
   "source": [
    "## Paths"
   ]
  },
  {
   "cell_type": "code",
   "execution_count": 2,
   "metadata": {},
   "outputs": [],
   "source": [
    "IMG_PATH = '../data/example_image/'\n",
    "SUPER_IMG_PATH = '../data/example_image/'\n",
    "SEG_PATH = '../data/example_segmentation/'\n",
    "\n",
    "TRUTH = '../data/example_ground_truth.csv'\n",
    "FEATURES = '../features/features.csv'"
   ]
  },
  {
   "cell_type": "markdown",
   "metadata": {},
   "source": [
    "## Functions"
   ]
  },
  {
   "cell_type": "code",
   "execution_count": 3,
   "metadata": {},
   "outputs": [],
   "source": [
    "def rgb2gray(circle_reference):\n",
    "\n",
    "    r, g, b = rgb[:,:,0], rgb[:,:,1], rgb[:,:,2]\n",
    "    gray = 0.2989 * r + 0.5870 * g + 0.1140 * b\n",
    "\n",
    "    return gray\n",
    "\n",
    "\n",
    "def mask(image, sens):\n",
    "    '''takes path to .jpg and returns a masked image'''\n",
    "    img =  image\n",
    "    #also want to be able to crop the image automaticallty here\n",
    "    gray = rgb2gray(img) #create grayscale thingy\n",
    "    img2 = gray < sens # **This level needs manually adjusting, also need to be able to automate**\n",
    "    \n",
    "    return img2\n",
    "\n",
    "def dimensions(mask):\n",
    "    '''calculates height(max) and width(90 deg to height)\n",
    "        returns height, width, rotated mask image, degree of rotation'''\n",
    "    pixels_in_col = np.max(np.sum(mask, axis=0))\n",
    "\n",
    "    rot = 0\n",
    "    max_col = 0\n",
    "    rot_max = 0\n",
    "    for _ in range(9):\n",
    "        rot_im = transform.rotate(mask,rot)\n",
    "        pixels_in_col = np.max(np.sum(rot_im, axis=0))\n",
    "        if pixels_in_col > max_col:\n",
    "            max_col = pixels_in_col\n",
    "            rot_max = rot\n",
    "        rot += 10\n",
    "\n",
    "    pixels_in_row = np.max(np.sum(mask1, axis=1))    \n",
    "    return max_col, pixels_in_row, rot_max\n",
    "\n",
    "def perimeter(bi_image):\n",
    "    '''calcs mask perimeter, returns outline image and length of perimeter'''\n",
    "    struct_el = morphology.disk(1)\n",
    "    mask_eroded = morphology.binary_erosion(bi_image, struct_el)\n",
    "    image_perimeter = bi_image - mask_eroded\n",
    "\n",
    "    return image_perimeter, float(np.sum(image_perimeter))\n",
    "\n",
    "def predict(bi_image):   \n",
    "    area = np.sum(bi_image)\n",
    "    _, peri = perimeter(bi_image)\n",
    "    \n",
    "    area_from_peri = pi*((peri/(2*pi))**2)\n",
    "    peri_from_area = 2*pi*sqrt(area/pi)\n",
    "    \n",
    "    return area, area_from_peri, peri, peri_from_area"
   ]
  },
  {
   "cell_type": "markdown",
   "metadata": {},
   "source": [
    "## Import single image and create mask"
   ]
  },
  {
   "cell_type": "code",
   "execution_count": 4,
   "metadata": {},
   "outputs": [
    {
     "name": "stdout",
     "output_type": "stream",
     "text": [
      "(1020, 1187, 3)\n",
      "(1020, 1187)\n"
     ]
    },
    {
     "data": {
      "image/png": "[encoded data removed]",
      "text/plain": [
       "<Figure size 432x288 with 1 Axes>"
      ]
     },
     "metadata": {
      "needs_background": "light"
     },
     "output_type": "display_data"
    }
   ],
   "source": [
    "IMG = 'ISIC_0001769'\n",
    "image = plt.imread(IMG_PATH+IMG+'.jpg')\n",
    "mask1 = plt.imread(SEG_PATH+IMG+'_segmentation.png')\n",
    "\n",
    "plt.imshow(mask1, cmap='gray');\n",
    "\n",
    "mask = np.where(mask1 == 1)\n",
    "\n",
    "x_min = min(mask[0])\n",
    "if x_min > 250:\n",
    "    x_min -= 250\n",
    "else:\n",
    "    x_min = 0\n",
    "y_min = min(mask[1])\n",
    "if y_min > 250:\n",
    "    y_min -= 250\n",
    "else:\n",
    "    y_min = 0\n",
    "    \n",
    "x_max = max(mask[0])+250\n",
    "y_max = max(mask[1])+250\n",
    "\n",
    "\n",
    "\n",
    "\n",
    "image = image[x_min:x_max,y_min:y_max]\n",
    "mask1 = mask1[x_min:x_max,y_min:y_max]\n",
    "\n",
    "\n",
    "print(image.shape)\n",
    "print(mask1.shape)\n",
    "\n",
    "plt.imshow(mask1, cmap='gray');"
   ]
  },
  {
   "cell_type": "code",
   "execution_count": null,
   "metadata": {},
   "outputs": [],
   "source": []
  },
  {
   "cell_type": "code",
   "execution_count": 5,
   "metadata": {},
   "outputs": [
    {
     "name": "stdout",
     "output_type": "stream",
     "text": [
      "1210740 216160.0\n",
      "17.85354411351735\n"
     ]
    },
    {
     "data": {
      "image/png": "[encoded data removed]",
      "text/plain": [
       "<Figure size 432x288 with 1 Axes>"
      ]
     },
     "metadata": {
      "needs_background": "light"
     },
     "output_type": "display_data"
    }
   ],
   "source": [
    "#Total size of the image\n",
    "total = mask1.shape[0] * mask1.shape[1] \n",
    "\n",
    "#Size of mask only\n",
    "area = np.sum(mask1)\n",
    "print(total, area)\n",
    "#As percentage\n",
    "print(area/total*100)\n",
    "\n",
    "plt.imshow(mask1, cmap='gray');"
   ]
  },
  {
   "cell_type": "code",
   "execution_count": 6,
   "metadata": {},
   "outputs": [
    {
     "name": "stdout",
     "output_type": "stream",
     "text": [
      "Height: 693.40, \n",
      "Width: 655.00\n"
     ]
    },
    {
     "data": {
      "image/png": "[encoded data removed]",
      "text/plain": [
       "<Figure size 432x288 with 1 Axes>"
      ]
     },
     "metadata": {
      "needs_background": "light"
     },
     "output_type": "display_data"
    }
   ],
   "source": [
    "height, width, rot_max = dimensions(mask1)\n",
    "rot_img = transform.rotate(mask1,rot_max)\n",
    "print(f'Height: {height:.2f}, \\nWidth: {width:.2f}')\n",
    "plt.imshow(rot_img, cmap='gray');"
   ]
  },
  {
   "cell_type": "code",
   "execution_count": 7,
   "metadata": {},
   "outputs": [
    {
     "name": "stdout",
     "output_type": "stream",
     "text": [
      "Length: 2013.00\n"
     ]
    },
    {
     "data": {
      "image/png": "[encoded data removed]",
      "text/plain": [
       "<Figure size 432x288 with 1 Axes>"
      ]
     },
     "metadata": {
      "needs_background": "light"
     },
     "output_type": "display_data"
    }
   ],
   "source": [
    "peri_img, peri = perimeter(mask1)\n",
    "\n",
    "print(f'Length: {peri:.2f}')\n",
    "\n",
    "plt.imshow(peri_img, cmap='gray');"
   ]
  },
  {
   "cell_type": "code",
   "execution_count": 8,
   "metadata": {},
   "outputs": [
    {
     "name": "stdout",
     "output_type": "stream",
     "text": [
      "Difference in circumference: 364.87 \n",
      "Difference in area: 106301.36\n"
     ]
    }
   ],
   "source": [
    "rad_from_peri = peri/(2*pi)\n",
    "rad_from_area = sqrt(area/pi)\n",
    "\n",
    "est_circ = 2*pi*rad_from_area\n",
    "est_area = pi*rad_from_peri**2\n",
    "\n",
    "print(f'Difference in circumference: {abs(peri-est_circ):.2f} \\nDifference in area: {abs(area-est_area):.2f}')"
   ]
  },
  {
   "cell_type": "code",
   "execution_count": null,
   "metadata": {},
   "outputs": [],
   "source": []
  },
  {
   "cell_type": "code",
   "execution_count": 9,
   "metadata": {},
   "outputs": [
    {
     "name": "stdout",
     "output_type": "stream",
     "text": [
      "(216160.0, 322461.3632968713, 2013.0, 1648.1343003529412)\n"
     ]
    }
   ],
   "source": [
    "print(predict(mask1))"
   ]
  },
  {
   "cell_type": "code",
   "execution_count": null,
   "metadata": {},
   "outputs": [],
   "source": []
  },
  {
   "cell_type": "markdown",
   "metadata": {},
   "source": [
    "## Load dataframes"
   ]
  },
  {
   "cell_type": "code",
   "execution_count": 10,
   "metadata": {},
   "outputs": [
    {
     "data": {
      "text/html": [
       "<div>\n",
       "<style scoped>\n",
       "    .dataframe tbody tr th:only-of-type {\n",
       "        vertical-align: middle;\n",
       "    }\n",
       "\n",
       "    .dataframe tbody tr th {\n",
       "        vertical-align: top;\n",
       "    }\n",
       "\n",
       "    .dataframe thead th {\n",
       "        text-align: right;\n",
       "    }\n",
       "</style>\n",
       "<table border=\"1\" class=\"dataframe\">\n",
       "  <thead>\n",
       "    <tr style=\"text-align: right;\">\n",
       "      <th></th>\n",
       "      <th>image_id</th>\n",
       "      <th>melanoma</th>\n",
       "      <th>seborrheic_keratosis</th>\n",
       "    </tr>\n",
       "  </thead>\n",
       "  <tbody>\n",
       "    <tr>\n",
       "      <th>0</th>\n",
       "      <td>ISIC_0001769</td>\n",
       "      <td>0.0</td>\n",
       "      <td>0.0</td>\n",
       "    </tr>\n",
       "    <tr>\n",
       "      <th>1</th>\n",
       "      <td>ISIC_0001852</td>\n",
       "      <td>0.0</td>\n",
       "      <td>0.0</td>\n",
       "    </tr>\n",
       "    <tr>\n",
       "      <th>2</th>\n",
       "      <td>ISIC_0001871</td>\n",
       "      <td>0.0</td>\n",
       "      <td>0.0</td>\n",
       "    </tr>\n",
       "    <tr>\n",
       "      <th>3</th>\n",
       "      <td>ISIC_0003462</td>\n",
       "      <td>0.0</td>\n",
       "      <td>0.0</td>\n",
       "    </tr>\n",
       "    <tr>\n",
       "      <th>4</th>\n",
       "      <td>ISIC_0003539</td>\n",
       "      <td>0.0</td>\n",
       "      <td>0.0</td>\n",
       "    </tr>\n",
       "  </tbody>\n",
       "</table>\n",
       "</div>"
      ],
      "text/plain": [
       "       image_id  melanoma  seborrheic_keratosis\n",
       "0  ISIC_0001769       0.0                   0.0\n",
       "1  ISIC_0001852       0.0                   0.0\n",
       "2  ISIC_0001871       0.0                   0.0\n",
       "3  ISIC_0003462       0.0                   0.0\n",
       "4  ISIC_0003539       0.0                   0.0"
      ]
     },
     "execution_count": 10,
     "metadata": {},
     "output_type": "execute_result"
    }
   ],
   "source": [
    "truth = pd.read_csv(TRUTH)\n",
    "truth.head()\n"
   ]
  },
  {
   "cell_type": "code",
   "execution_count": 11,
   "metadata": {},
   "outputs": [
    {
     "data": {
      "text/plain": [
       "(30, 3)"
      ]
     },
     "execution_count": 11,
     "metadata": {},
     "output_type": "execute_result"
    }
   ],
   "source": [
    "cancer = truth[truth['melanoma'] == 1]\n",
    "cancer.shape"
   ]
  },
  {
   "cell_type": "code",
   "execution_count": 12,
   "metadata": {},
   "outputs": [],
   "source": []
  },
  {
   "cell_type": "code",
   "execution_count": 13,
   "metadata": {},
   "outputs": [],
   "source": [
    "pred_df = pd.DataFrame(columns=['id', 'area', 'pred_area', 'peri','pred_peri','melanoma'])\n",
    "\n",
    "c=0\n",
    "for name in truth['image_id']:\n",
    "    mask1 = plt.imread(SEG_PATH+name+'_segmentation.png')\n",
    "    area, pred_area, peri, pred_peri = predict(mask1)\n",
    "    pred_df.loc[c] = [name, area, pred_area, peri, pred_peri,truth[truth['image_id'] == name].iloc[0]['melanoma']]\n",
    "    c+=1\n"
   ]
  },
  {
   "cell_type": "code",
   "execution_count": 14,
   "metadata": {},
   "outputs": [
    {
     "data": {
      "text/plain": [
       "(150, 6)"
      ]
     },
     "execution_count": 14,
     "metadata": {},
     "output_type": "execute_result"
    }
   ],
   "source": [
    "pred_df.shape"
   ]
  },
  {
   "cell_type": "code",
   "execution_count": null,
   "metadata": {},
   "outputs": [],
   "source": []
  },
  {
   "cell_type": "code",
   "execution_count": null,
   "metadata": {},
   "outputs": [],
   "source": []
  },
  {
   "cell_type": "code",
   "execution_count": 15,
   "metadata": {
    "scrolled": false
   },
   "outputs": [
    {
     "data": {
      "image/png": "[encoded data removed]",
      "text/plain": [
       "<Figure size 1440x720 with 2 Axes>"
      ]
     },
     "metadata": {
      "needs_background": "light"
     },
     "output_type": "display_data"
    }
   ],
   "source": [
    "mel = pred_df[pred_df['melanoma']==1.0]\n",
    "clear = pred_df[pred_df['melanoma']==0.0]\n",
    "\n",
    "fig, axes = plt.subplots(nrows=1, ncols=2, figsize=(20, 10))\n",
    "axes = axes.flatten()\n",
    "\n",
    "axes[0].scatter(clear['area'], clear['pred_area'], c='blue')\n",
    "axes[0].scatter(mel['area'], mel['pred_area'], c='red')\n",
    "\n",
    "axes[1].scatter(clear['peri'], clear['pred_peri'], c='blue')\n",
    "axes[1].scatter(mel['peri'], mel['pred_peri'], c='red')\n",
    "\n",
    "axes[0].set_title('area vs circle area')\n",
    "axes[1].set_title('perimeter vs circle perimeter');\n"
   ]
  },
  {
   "cell_type": "code",
   "execution_count": null,
   "metadata": {},
   "outputs": [],
   "source": []
  }
 ],
 "metadata": {
  "kernelspec": {
   "display_name": "Python 3",
   "language": "python",
   "name": "python3"
  },
  "language_info": {
   "codemirror_mode": {
    "name": "ipython",
    "version": 3
   },
   "file_extension": ".py",
   "mimetype": "text/x-python",
   "name": "python",
   "nbconvert_exporter": "python",
   "pygments_lexer": "ipython3",
   "version": "3.8.5"
  }
 },
 "nbformat": 4,
 "nbformat_minor": 4
}
