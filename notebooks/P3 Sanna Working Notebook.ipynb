{
 "cells": [
  {
   "cell_type": "markdown",
   "metadata": {},
   "source": [
    "## Imports"
   ]
  },
  {
   "cell_type": "code",
   "execution_count": 1,
   "metadata": {},
   "outputs": [],
   "source": [
    "import matplotlib.pyplot as plt\n",
    "import numpy as np\n",
    "import pandas as pd\n",
    "from math import pi\n",
    "from skimage import morphology\n",
    "from skimage.morphology import opening\n",
    "from skimage import transform\n",
    "from skimage import filters"
   ]
  },
  {
   "cell_type": "code",
   "execution_count": null,
   "metadata": {},
   "outputs": [],
   "source": []
  },
  {
   "cell_type": "markdown",
   "metadata": {},
   "source": [
    "## Paths"
   ]
  },
  {
   "cell_type": "code",
   "execution_count": 2,
   "metadata": {},
   "outputs": [],
   "source": [
    "IMG_PATH = '../data/example_image/'\n",
    "SUPER_IMG_PATH = '../data/example_image/'\n",
    "SEG_PATH = '../data/example_segmentation/'\n",
    "\n",
    "TRUTH = '../data/example_ground_truth.csv'\n",
    "FEATURES = '../features/features.csv'"
   ]
  },
  {
   "cell_type": "markdown",
   "metadata": {},
   "source": [
    "## Functions"
   ]
  },
  {
   "cell_type": "code",
   "execution_count": 3,
   "metadata": {},
   "outputs": [],
   "source": [
    "def rgb2gray(circle_reference):\n",
    "\n",
    "    r, g, b = rgb[:,:,0], rgb[:,:,1], rgb[:,:,2]\n",
    "    gray = 0.2989 * r + 0.5870 * g + 0.1140 * b\n",
    "\n",
    "    return gray\n",
    "\n",
    "\n",
    "def mask(image, sens):\n",
    "    '''takes path to .jpg and returns a masked image'''\n",
    "    img =  image\n",
    "    #also want to be able to crop the image automaticallty here\n",
    "    gray = rgb2gray(img) #create grayscale thingy\n",
    "    img2 = gray < sens # **This level needs manually adjusting, also need to be able to automate**\n",
    "    \n",
    "    return img2\n",
    "\n",
    "def dimensions(mask1):\n",
    "    '''calculates height(max) and width(90 deg to height)\n",
    "        returns height, width, rotated mask image, degree of rotation'''\n",
    "    pixels_in_col = np.max(np.sum(mask1, axis=0))\n",
    "\n",
    "    rot = 0\n",
    "    max_col = 0\n",
    "    rot_max = 0\n",
    "    for _ in range(18):\n",
    "        rot_im = transform.rotate(mask1,rot)\n",
    "        pixels_in_col = np.max(np.sum(rot_im, axis=0))\n",
    "        if pixels_in_col > max_col:\n",
    "            max_col = pixels_in_col\n",
    "            rot_max = rot\n",
    "        rot += 10\n",
    "\n",
    "    pixels_in_row = np.max(np.sum(mask1, axis=1))    \n",
    "    return max_col, pixels_in_row, rot_max\n",
    "\n",
    "def perimeter(mask1):\n",
    "    '''calcs mask perimeter, returns outline image and length of perimeter'''\n",
    "    struct_el = morphology.disk(5)\n",
    "    mask_eroded = morphology.binary_erosion(mask1, struct_el)\n",
    "    image_perimeter = mask1 - mask_eroded\n",
    "\n",
    "    return image_perimeter, np.sum(image_perimeter)"
   ]
  },
  {
   "cell_type": "markdown",
   "metadata": {},
   "source": [
    "## Import single image and create mask"
   ]
  },
  {
   "cell_type": "code",
   "execution_count": 4,
   "metadata": {},
   "outputs": [
    {
     "name": "stdout",
     "output_type": "stream",
     "text": [
      "(2830, 3145, 3)\n",
      "(2830, 3145)\n"
     ]
    },
    {
     "data": {
      "image/png": "[encoded data removed]",
      "text/plain": [
       "<Figure size 432x288 with 1 Axes>"
      ]
     },
     "metadata": {
      "needs_background": "light"
     },
     "output_type": "display_data"
    }
   ],
   "source": [
    "IMG = 'ISIC_0013518'\n",
    "image = plt.imread(IMG_PATH+IMG+'.jpg')\n",
    "mask1 = plt.imread(SEG_PATH+IMG+'_segmentation.png')\n",
    "\n",
    "plt.imshow(mask1, cmap='gray');\n",
    "\n",
    "mask = np.where(mask1 == 1)\n",
    "\n",
    "x_min = min(mask[0])\n",
    "if x_min > 250:\n",
    "    x_min -= 250\n",
    "else:\n",
    "    x_min = 0\n",
    "y_min = min(mask[1])\n",
    "if y_min > 250:\n",
    "    y_min -= 250\n",
    "else:\n",
    "    y_min = 0\n",
    "    \n",
    "x_max = max(mask[0])+250\n",
    "y_max = max(mask[1])+250\n",
    "\n",
    "\n",
    "\n",
    "\n",
    "image = image[x_min:x_max,y_min:y_max]\n",
    "mask1 = mask1[x_min:x_max,y_min:y_max]\n",
    "\n",
    "\n",
    "print(image.shape)\n",
    "print(mask1.shape)\n",
    "\n",
    "plt.imshow(mask1, cmap='gray');"
   ]
  },
  {
   "cell_type": "code",
   "execution_count": null,
   "metadata": {},
   "outputs": [],
   "source": []
  },
  {
   "cell_type": "code",
   "execution_count": 5,
   "metadata": {},
   "outputs": [
    {
     "name": "stdout",
     "output_type": "stream",
     "text": [
      "8900350 4680699.0\n",
      "52.59005544725769\n"
     ]
    },
    {
     "data": {
      "image/png": "[encoded data removed]",
      "text/plain": [
       "<Figure size 432x288 with 1 Axes>"
      ]
     },
     "metadata": {
      "needs_background": "light"
     },
     "output_type": "display_data"
    }
   ],
   "source": [
    "#Total size of the image\n",
    "total = mask1.shape[0] * mask1.shape[1] \n",
    "\n",
    "#Size of mask only\n",
    "area = np.sum(mask1)\n",
    "print(total, area)\n",
    "#As percentage\n",
    "print(area/total*100)\n",
    "\n",
    "plt.imshow(mask1, cmap='gray');"
   ]
  },
  {
   "cell_type": "code",
   "execution_count": 6,
   "metadata": {},
   "outputs": [
    {
     "name": "stdout",
     "output_type": "stream",
     "text": [
      "Height: 2736.81, \n",
      "Width: 2579.00\n"
     ]
    },
    {
     "data": {
      "image/png": "[encoded data removed]",
      "text/plain": [
       "<Figure size 432x288 with 1 Axes>"
      ]
     },
     "metadata": {
      "needs_background": "light"
     },
     "output_type": "display_data"
    }
   ],
   "source": [
    "height, width, rot_max = dimensions(mask1)\n",
    "rot_img = transform.rotate(mask1,rot_max)\n",
    "print(f'Height: {height:.2f}, \\nWidth: {width:.2f}')\n",
    "plt.imshow(rot_img, cmap='gray');"
   ]
  },
  {
   "cell_type": "code",
   "execution_count": 7,
   "metadata": {},
   "outputs": [
    {
     "name": "stdout",
     "output_type": "stream",
     "text": [
      "Length: 52778.01\n"
     ]
    },
    {
     "data": {
      "image/png": "[encoded data removed]",
      "text/plain": [
       "<Figure size 432x288 with 1 Axes>"
      ]
     },
     "metadata": {
      "needs_background": "light"
     },
     "output_type": "display_data"
    }
   ],
   "source": [
    "image_perimeter, peri = perimeter(rot_img)\n",
    "print(f'Length: {peri:.2f}')\n",
    "plt.imshow(image_perimeter, cmap='gray');"
   ]
  },
  {
   "cell_type": "code",
   "execution_count": 8,
   "metadata": {},
   "outputs": [
    {
     "name": "stdout",
     "output_type": "stream",
     "text": [
      "1368.4056396484375\n",
      "Difference in circumference: 44180.07 \n",
      "Difference in area: 1202040.04\n"
     ]
    }
   ],
   "source": [
    "est_rad = height/2 #would be the circle that encloses the largest dimension\n",
    "\n",
    "print(est_rad)\n",
    "\n",
    "est_circ = 2*pi*est_rad\n",
    "est_area = pi*(est_rad*est_rad)\n",
    "\n",
    "print(f'Difference in circumference: {abs(peri-est_circ):.2f} \\nDifference in area: {abs(area-est_area):.2f}')"
   ]
  },
  {
   "cell_type": "code",
   "execution_count": 9,
   "metadata": {},
   "outputs": [],
   "source": [
    "def features(image, bi_image):\n",
    "    mask = np.where(bi_image == 1)\n",
    "    x_min = min(mask[0])\n",
    "    if x_min > 250:\n",
    "        x_min -= 250\n",
    "    else:\n",
    "        x_min = 0\n",
    "    y_min = min(mask[1])\n",
    "    if y_min > 250:\n",
    "        y_min -= 250\n",
    "    else:\n",
    "        y_min = 0\n",
    "\n",
    "    x_max = max(mask[0])+250\n",
    "    y_max = max(mask[1])+250\n",
    "\n",
    "    image = image[x_min:x_max,y_min:y_max]\n",
    "    bi_image = bi_image[x_min:x_max,y_min:y_max]\n",
    "    \n",
    "    height, width, rot_deg = dimensions(bi_image)\n",
    "    area = np.sum(bi_image)\n",
    "    \n",
    "    est_rad = height/2\n",
    "    est_circ = 2*pi*est_rad\n",
    "    est_area = pi*(est_rad*est_rad)\n",
    "    \n",
    "    area_dif = abs(area-est_area)\n",
    "    circ_dif = abs(peri-est_circ)\n",
    "    \n",
    "    return area_dif, circ_dif\n",
    "    "
   ]
  },
  {
   "cell_type": "code",
   "execution_count": 10,
   "metadata": {},
   "outputs": [
    {
     "name": "stdout",
     "output_type": "stream",
     "text": [
      "1202040.0411005225 44180.065509449254\n"
     ]
    }
   ],
   "source": [
    "area, circ = features(image, mask1)\n",
    "print(area, circ)"
   ]
  },
  {
   "cell_type": "markdown",
   "metadata": {},
   "source": [
    "## Load dataframes"
   ]
  },
  {
   "cell_type": "code",
   "execution_count": 11,
   "metadata": {},
   "outputs": [
    {
     "data": {
      "text/plain": [
       "'0013518'"
      ]
     },
     "execution_count": 11,
     "metadata": {},
     "output_type": "execute_result"
    }
   ],
   "source": [
    "truth = pd.read_csv(TRUTH)\n",
    "truth.head()\n",
    "\n",
    "IMG[5:]"
   ]
  },
  {
   "cell_type": "code",
   "execution_count": 12,
   "metadata": {},
   "outputs": [
    {
     "data": {
      "text/plain": [
       "(30, 3)"
      ]
     },
     "execution_count": 12,
     "metadata": {},
     "output_type": "execute_result"
    }
   ],
   "source": [
    "cancer = truth[truth['melanoma'] == 1]\n",
    "cancer.shape"
   ]
  },
  {
   "cell_type": "code",
   "execution_count": 13,
   "metadata": {},
   "outputs": [],
   "source": [
    "#This takes around 20mins to run, so it's been exported as a csv 'features_v1.csv' for now\n",
    "\n",
    "#features_df = pd.DataFrame(columns = ['id', 'area', 'circ','melanoma'])\n",
    "#c=0\n",
    "#for name in truth['image_id']:\n",
    "#    image = plt.imread(IMG_PATH+name+'.jpg')\n",
    "#    mask1 = plt.imread(SEG_PATH+name+'_segmentation.png')\n",
    "#    area, circ = features(image, mask1)\n",
    "#    features_df.loc[c] = [name[5:], area, circ,truth[truth['image_id'] == name].iloc[0]['melanoma']]\n",
    "#    \n",
    "#    c += 1"
   ]
  },
  {
   "cell_type": "code",
   "execution_count": 24,
   "metadata": {},
   "outputs": [
    {
     "data": {
      "text/plain": [
       "(150, 4)"
      ]
     },
     "execution_count": 24,
     "metadata": {},
     "output_type": "execute_result"
    }
   ],
   "source": [
    "features_df.shape"
   ]
  },
  {
   "cell_type": "code",
   "execution_count": 15,
   "metadata": {},
   "outputs": [
    {
     "data": {
      "image/png": "[encoded data removed]",
      "text/plain": [
       "<Figure size 432x288 with 1 Axes>"
      ]
     },
     "metadata": {
      "needs_background": "light"
     },
     "output_type": "display_data"
    }
   ],
   "source": [
    "features_df['id'] = features_df['id'].astype(int)\n",
    "\n",
    "mel = features_df[features_df['melanoma']==1.0]\n",
    "clear = features_df[features_df['melanoma']==0.0]\n",
    "plt.scatter(clear['id'], clear['circ'], c='blue');\n",
    "plt.scatter(mel['id'], mel['circ'], c='red');"
   ]
  },
  {
   "cell_type": "code",
   "execution_count": 16,
   "metadata": {},
   "outputs": [
    {
     "data": {
      "image/png": "[encoded data removed]",
      "text/plain": [
       "<Figure size 432x288 with 1 Axes>"
      ]
     },
     "metadata": {
      "needs_background": "light"
     },
     "output_type": "display_data"
    }
   ],
   "source": [
    "plt.scatter(clear['id'], clear['area'], c='blue');\n",
    "plt.scatter(mel['id'], mel['area'], c='red');"
   ]
  },
  {
   "cell_type": "code",
   "execution_count": 25,
   "metadata": {},
   "outputs": [],
   "source": [
    "features_df.to_csv(r'../features_v1.csv', header=True, index= False)"
   ]
  },
  {
   "cell_type": "code",
   "execution_count": null,
   "metadata": {},
   "outputs": [],
   "source": []
  }
 ],
 "metadata": {
  "kernelspec": {
   "display_name": "Python 3",
   "language": "python",
   "name": "python3"
  },
  "language_info": {
   "codemirror_mode": {
    "name": "ipython",
    "version": 3
   },
   "file_extension": ".py",
   "mimetype": "text/x-python",
   "name": "python",
   "nbconvert_exporter": "python",
   "pygments_lexer": "ipython3",
   "version": "3.8.5"
  }
 },
 "nbformat": 4,
 "nbformat_minor": 4
}
