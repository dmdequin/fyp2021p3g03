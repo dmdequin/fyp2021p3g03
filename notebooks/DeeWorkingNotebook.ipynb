{
 "cells": [
  {
   "cell_type": "markdown",
   "metadata": {
    "cell_id": "00000-692d76a9-b671-4775-8c5e-bc9d11a347b9",
    "deepnote_cell_type": "markdown",
    "tags": []
   },
   "source": [
    "# First Year Project - ITU CPH\n",
    "\n",
    "## Project 3 - Effectiveness of Skin Cancer Prediction\n",
    "\n",
    "This notebook contains all of the code developed for project 3, completing tasks similar to data scientists working for a dermatologist to investigate whether some characteristics of skin lesions can be reliably measure with a smartphone app.\n",
    "\n",
    "The goal is to measure at least 2 of the following characteristics in a set of skin lesion images; asymmetry, border, and color.\n",
    "\n",
    "Then, we will try to assess how good the measurements are, by predicting the diagnosis of the skin lesions based on these features.\n",
    "\n",
    "We will focus on the **Melanoma** form of skin cancer.\n",
    "\n",
    "Group 3:<br>\n",
    "Crisanna Cornish (ccor@itu.dk)<br>\n",
    "Danielle Dequin (ddeq@itu.dk)<br>\n",
    "Gino Franco Fazzi (gifa@itu.dk)<br>\n",
    "Moneeca Abru Iftikhar Latif (abml@itu.dk)<br>\n",
    "Carl August Wismer (cwis@itu.dk)\n",
    "\n",
    "Created: 07-04-2021<br>\n",
    "Last Modified: 09-04-2021"
   ]
  },
  {
   "cell_type": "markdown",
   "metadata": {
    "cell_id": "00001-d5d461f4-ecae-4790-8e7f-e76bceab0b3b",
    "deepnote_cell_type": "markdown",
    "tags": []
   },
   "source": [
    "# Data Sources"
   ]
  },
  {
   "cell_type": "markdown",
   "metadata": {
    "cell_id": "00002-f12734da-25bb-4472-9bd0-a2297fec4071",
    "deepnote_cell_type": "markdown",
    "tags": []
   },
   "source": [
    "Data was provided by the ISIC challenge data sets. <br>\n",
    "https://challenge.isic-archive.com/data\n",
    "\n",
    "Codella N, Gutman D, Celebi ME, Helba B, Marchetti MA, Dusza S, Kalloo A, Liopyris K, Mishra N, Kittler H, Halpern A. \"Skin Lesion Analysis Toward Melanoma Detection: A Challenge at the 2017 International Symposium on Biomedical Imaging (ISBI), Hosted by the International Skin Imaging Collaboration (ISIC)\". arXiv: 1710.05006 [cs.CV]\n"
   ]
  },
  {
   "cell_type": "markdown",
   "metadata": {
    "cell_id": "00001-2f0b3150-c354-4294-af7e-9d3371562e79",
    "deepnote_cell_type": "markdown",
    "tags": []
   },
   "source": [
    "# Imports"
   ]
  },
  {
   "cell_type": "code",
   "execution_count": null,
   "metadata": {
    "cell_id": "00001-5b61feee-4ddf-40f8-abed-bd80f32316c8",
    "deepnote_cell_type": "code",
    "deepnote_to_be_reexecuted": false,
    "execution_millis": 19115,
    "execution_start": 1618348444391,
    "output_cleared": false,
    "source_hash": "a5befa2c",
    "tags": []
   },
   "outputs": [],
   "source": [
    "#!pip install scikit-image\n",
    "#!pip install pillow"
   ]
  },
  {
   "cell_type": "code",
   "execution_count": null,
   "metadata": {
    "cell_id": "00000-f8b31082-4b9b-45d5-8d4d-c33c9fc8e487",
    "deepnote_cell_type": "code",
    "deepnote_to_be_reexecuted": false,
    "execution_millis": 2050,
    "execution_start": 1618348463513,
    "output_cleared": true,
    "source_hash": "29658f4b",
    "tags": []
   },
   "outputs": [],
   "source": [
    "import matplotlib.pyplot as plt\n",
    "import numpy as np\n",
    "import pandas as pd\n",
    "import skimage\n",
    "from math import pi\n",
    "from math import sqrt\n",
    "from skimage import morphology\n",
    "from skimage.morphology import opening\n",
    "from skimage import transform\n",
    "from skimage import filters\n",
    "from skimage.filters import sobel\n",
    "from skimage.segmentation import disk_level_set\n",
    "from PIL import Image"
   ]
  },
  {
   "cell_type": "markdown",
   "metadata": {
    "cell_id": "00003-9b21d6ce-e286-49db-9064-97a04fb3670c",
    "deepnote_cell_type": "markdown",
    "tags": []
   },
   "source": [
    "# Paths"
   ]
  },
  {
   "cell_type": "code",
   "execution_count": null,
   "metadata": {
    "cell_id": "00002-3260e460-3924-4de8-bf6b-f113f5bc120f",
    "deepnote_cell_type": "code",
    "deepnote_to_be_reexecuted": false,
    "execution_millis": 19,
    "execution_start": 1618348465568,
    "output_cleared": true,
    "source_hash": "7a7fa74b",
    "tags": []
   },
   "outputs": [],
   "source": [
    "IMG_PATH = '../data/test/example_image/'\n",
    "SUPER_IMG_PATH = '../data/example_image/'\n",
    "SEG_PATH = '../data/test/example_segmentation/'\n",
    "\n",
    "TRUTH = '../data/example_ground_truth.csv'\n",
    "FEATURES = '../features/features.csv'"
   ]
  },
  {
   "cell_type": "markdown",
   "metadata": {
    "cell_id": "00005-5b516c5a-ef83-4396-af0c-32784d0e6106",
    "deepnote_cell_type": "markdown",
    "tags": []
   },
   "source": [
    "# Functions"
   ]
  },
  {
   "cell_type": "code",
   "execution_count": null,
   "metadata": {
    "cell_id": "00005-bb40b006-edae-400b-8a93-9eed393a62de",
    "deepnote_cell_type": "code",
    "deepnote_to_be_reexecuted": false,
    "execution_millis": 23,
    "execution_start": 1618348465593,
    "output_cleared": true,
    "source_hash": "f5b36a50",
    "tags": []
   },
   "outputs": [],
   "source": [
    "def rgb2gray(rgb):\n",
    "\n",
    "    r, g, b = rgb[:,:,0], rgb[:,:,1], rgb[:,:,2]\n",
    "    gray = 0.2989 * r + 0.5870 * g + 0.1140 * b\n",
    "\n",
    "    return gray\n",
    "\n",
    "\n",
    "def masker(image, sens):\n",
    "    '''takes image and returns a masked image'''\n",
    "    gray = rgb2gray(image) #create grayscale thingy\n",
    "    img2 = gray < sens # **This level needs manually adjusting, also need to be able to automate**\n",
    "    \n",
    "    return img2.astype(int)\n",
    "\n",
    "def dimensions(mask1):\n",
    "    '''calculates height(max) and width(90 deg to height)\n",
    "        returns height, width, rotated mask image, degree of rotation'''\n",
    "    pixels_in_col = np.max(np.sum(mask1, axis=0))\n",
    "\n",
    "    rot = 0\n",
    "    max_col = 0\n",
    "    rot_max = 0\n",
    "    for _ in range(9):\n",
    "        rot_im = transform.rotate(mask1,rot)\n",
    "        pixels_in_col = np.max(np.sum(rot_im, axis=0))\n",
    "        if pixels_in_col > max_col:\n",
    "            max_col = pixels_in_col\n",
    "            rot_max = rot\n",
    "            pixels_in_row = np.max(np.sum(rot_im, axis=1))\n",
    "        rot += 10\n",
    "\n",
    "    return max_col, pixels_in_row, rot_max\n",
    "\n",
    "def perimeter(mask1):\n",
    "    '''calcs mask perimeter, returns outline image and length of perimeter'''\n",
    "    struct_el = morphology.disk(1)\n",
    "    mask_eroded = morphology.binary_erosion(mask1, struct_el)\n",
    "    image_perimeter = mask1 - mask_eroded\n",
    "\n",
    "    return image_perimeter, np.sum(image_perimeter)\n",
    "\n",
    "def predict(bi_image):   \n",
    "    area = np.sum(bi_image)\n",
    "    _, peri = perimeter(bi_image)\n",
    "    \n",
    "    area_from_peri = pi*((peri/(2*pi))**2)\n",
    "    peri_from_area = 2*pi*sqrt(area/pi)\n",
    "    \n",
    "    return area, area_from_peri, peri, peri_from_area"
   ]
  },
  {
   "cell_type": "code",
   "execution_count": null,
   "metadata": {
    "cell_id": "00007-32ff4199-a735-4ef1-be98-f0550c87a424",
    "deepnote_cell_type": "code",
    "deepnote_to_be_reexecuted": false,
    "execution_millis": 34,
    "execution_start": 1618348465623,
    "output_cleared": true,
    "source_hash": "56f442ba",
    "tags": []
   },
   "outputs": [],
   "source": [
    "def get_boundaries(image):\n",
    "    mask = np.where(image == 1)\n",
    "    left = min(mask[1])\n",
    "    right = max(mask[1])\n",
    "    upper = min(mask[0])\n",
    "    lower = max(mask[0])\n",
    "    return upper, lower, left, right\n",
    "\n",
    "def get_center(image):\n",
    "    up, dw, lt, rt = get_boundaries(image)\n",
    "    center = ((up + dw)//2,(rt + lt)//2)\n",
    "    return center\n",
    "    \n",
    "def zoom(image):\n",
    "    up, dw, lt, rt = get_boundaries(image)\n",
    "    if ((up+dw) % 2) != 0:\n",
    "        dw +=1 \n",
    "    if ((rt+lt) % 2) != 0:\n",
    "        rt +=1\n",
    "    rectangle = image[up:dw, lt:rt]\n",
    "    return rectangle\n",
    "\n",
    "\n",
    "def test_symmetry(image, rot_deg=30):\n",
    "\n",
    "    assert (rot_deg <= 90) and (rot_deg >= 0), \"Rotation degree should be positive and at most 90 deg\"\n",
    "    optimal = 0\n",
    "    \n",
    "    for deg in range(0,90, rot_deg):\n",
    "        rot_image = skimage.transform.rotate(image, deg)\n",
    "        z = zoom(rot_image)\n",
    "        \n",
    "        upside, downside, leftside, rightside = cuts(z)\n",
    "\n",
    "        up_dw = np.sum(np.bitwise_and(upside.astype(int), np.flipud(downside).astype(int))) /\\\n",
    "        np.sum(np.bitwise_or(upside.astype(int), np.flipud(downside).astype(int)))\n",
    "\n",
    "        lt_rt = np.sum(np.bitwise_and(leftside.astype(int), np.fliplr(rightside).astype(int))) /\\\n",
    "        np.sum(np.bitwise_or(leftside.astype(int), np.fliplr(rightside).astype(int)))\n",
    "    \n",
    "        symmetry = (up_dw+lt_rt)/2\n",
    "        \n",
    "        if symmetry > optimal: optimal = symmetry\n",
    "\n",
    "    return symmetry\n",
    "    \n",
    "    if show:\n",
    "        fig, ((ax1, ax2), (ax3, ax4)) = plt.subplots(2,2, figsize=(15,12), dpi=350)\n",
    "        ax1.imshow(upside)\n",
    "        ax2.imshow(downside)\n",
    "        ax3.imshow(leftside)\n",
    "        ax4.imshow(rightside)\n",
    "\n",
    "        print(f'Up/Down Symmetry: {up_dw:.2%}')\n",
    "        print(f'Left/Right Symmetry: {lt_rt:.2%}')\n",
    "    \n",
    "    else:\n",
    "        return symmetry\n",
    "\n",
    "def color_std(image):\n",
    "    try:\n",
    "        R = image[np.where(image[:,:,0] != 0) and np.where(image[:,:,1] != 0) and np.where(image[:,:,2] != 0)][:,0]\n",
    "        G = image[np.where(image[:,:,0] != 0) and np.where(image[:,:,1] != 0) and np.where(image[:,:,2] != 0)][:,1]\n",
    "        B = image[np.where(image[:,:,0] != 0) and np.where(image[:,:,1] != 0) and np.where(image[:,:,2] != 0)][:,2]\n",
    "        color_std = (np.std(R) + np.std(G) + np.std(B)) /3\n",
    "    except:\n",
    "        color_std = 'NA'\n",
    "    return color_std\n"
   ]
  },
  {
   "cell_type": "markdown",
   "metadata": {
    "cell_id": "00007-169008cf-f7ad-4d2c-b9a7-8d27230bfd09",
    "deepnote_cell_type": "markdown",
    "tags": []
   },
   "source": [
    "# Import Single Image and Explore Data"
   ]
  },
  {
   "cell_type": "code",
   "execution_count": null,
   "metadata": {
    "cell_id": "00007-52ac0611-97f0-4db7-9618-c0d0b7bb3879",
    "deepnote_cell_type": "code",
    "deepnote_to_be_reexecuted": false,
    "execution_millis": 1749,
    "execution_start": 1618348465663,
    "output_cleared": false,
    "source_hash": "aa68316b",
    "tags": []
   },
   "outputs": [],
   "source": [
    "IMG = 'ISIC_0012086'\n",
    "\n",
    "image = plt.imread(IMG_PATH+IMG+'.jpg')\n",
    "mask1 = plt.imread(SEG_PATH+IMG+'_segmentation.png')\n",
    "\n",
    "print(image.shape)\n",
    "print(image.dtype)\n",
    "print(mask1.shape)\n",
    "\n",
    "plt.imshow(image, cmap='gray');"
   ]
  },
  {
   "cell_type": "code",
   "execution_count": null,
   "metadata": {},
   "outputs": [],
   "source": [
    "plt.imshow(masker(image,110), cmap='gray')"
   ]
  },
  {
   "cell_type": "code",
   "execution_count": null,
   "metadata": {
    "cell_id": "00009-ce15f454-d086-4df0-9472-e869290c8cd4",
    "deepnote_cell_type": "code",
    "deepnote_to_be_reexecuted": false,
    "execution_millis": 985,
    "execution_start": 1618348467424,
    "output_cleared": false,
    "source_hash": "44f89b0b",
    "tags": []
   },
   "outputs": [],
   "source": [
    "# Get a single RGB value from the blue circle (marker used by dermatologist)\n",
    "print(f\"Color in a random spot: \", image[2000,2000,:])\n",
    "\n",
    "# Find color of a random spot\n",
    "print(f\"Color in the lesion: \", image[1500,1000,:])\n",
    "\n",
    "# Show only the red channel\n",
    "plt.imshow(image[:,:,0], cmap='gray');"
   ]
  },
  {
   "cell_type": "code",
   "execution_count": null,
   "metadata": {
    "cell_id": "00010-be73a2ce-86b3-4146-aa0a-484e3d4ca33c",
    "deepnote_cell_type": "code",
    "deepnote_to_be_reexecuted": false,
    "execution_millis": 427,
    "execution_start": 1618348468416,
    "output_cleared": false,
    "source_hash": "633d198d",
    "tags": []
   },
   "outputs": [],
   "source": [
    "# Display only a part of the image\n",
    "im_part = image[600:1200,1250:2100,:]\n",
    "plt.imshow(im_part);"
   ]
  },
  {
   "cell_type": "code",
   "execution_count": null,
   "metadata": {
    "cell_id": "00011-9557a95d-6eac-4512-b045-2377fdfa367e",
    "deepnote_cell_type": "code",
    "deepnote_to_be_reexecuted": false,
    "execution_millis": 450,
    "execution_start": 1618348468830,
    "output_cleared": false,
    "source_hash": "7b73991c",
    "tags": []
   },
   "outputs": [],
   "source": [
    "# Modify the image by setting some pixels to black\n",
    "im_copy = im_part.copy()\n",
    "\n",
    "im_copy[0:10,0:10,:] = np.tile(0, [10, 10, 3])\n",
    "plt.imshow(im_copy);"
   ]
  },
  {
   "cell_type": "code",
   "execution_count": null,
   "metadata": {
    "cell_id": "00012-58e28dca-7ffe-4b44-a178-d4d04aabb178",
    "deepnote_cell_type": "code",
    "deepnote_to_be_reexecuted": false,
    "execution_millis": 2439,
    "execution_start": 1618348469267,
    "output_cleared": false,
    "source_hash": "19bb494e",
    "tags": []
   },
   "outputs": [],
   "source": [
    "# Load Image and Segmentation Image Side by Side\n",
    "image = plt.imread(IMG_PATH+IMG+'.jpg')\n",
    "im_seg = plt.imread(SEG_PATH+IMG+'_segmentation.png')\n",
    "\n",
    "fig, axes = plt.subplots(nrows=1, ncols=2, figsize=(7, 5))\n",
    "axes[0].imshow(image)\n",
    "axes[1].imshow(im_seg, cmap='gray')\n",
    "fig.tight_layout()"
   ]
  },
  {
   "cell_type": "code",
   "execution_count": null,
   "metadata": {
    "cell_id": "00017-4ca383cf-e3fb-41a5-ad07-7570409c2d34",
    "deepnote_cell_type": "code",
    "deepnote_to_be_reexecuted": false,
    "execution_millis": 1020,
    "execution_start": 1618348471702,
    "output_cleared": false,
    "source_hash": "b7ed17f7",
    "tags": []
   },
   "outputs": [],
   "source": [
    "# See the results of the rgb2gray function\n",
    "\n",
    "gray = rgb2gray(image)\n",
    "plt.imshow(gray, cmap='gray');"
   ]
  },
  {
   "cell_type": "code",
   "execution_count": null,
   "metadata": {
    "cell_id": "00018-f3ef05df-2ab4-4b5b-8641-f44acb60560b",
    "deepnote_cell_type": "code",
    "deepnote_to_be_reexecuted": false,
    "execution_millis": 8,
    "execution_start": 1618348472718,
    "output_cleared": true,
    "source_hash": "f68e549d",
    "tags": []
   },
   "outputs": [],
   "source": [
    "# A histogram of the range of gray values\n",
    "#plt.hist(gray);"
   ]
  },
  {
   "cell_type": "code",
   "execution_count": null,
   "metadata": {
    "cell_id": "00019-6cd786b5-cb07-4524-b2e8-21e4388881e8",
    "deepnote_cell_type": "code",
    "deepnote_to_be_reexecuted": false,
    "execution_millis": 879,
    "execution_start": 1618348472735,
    "output_cleared": false,
    "source_hash": "2f8e0935",
    "tags": []
   },
   "outputs": [],
   "source": [
    "# Filtering the image based on the gray value\n",
    "im_gray = gray < 125\n",
    "plt.imshow(im_gray, cmap='gray')"
   ]
  },
  {
   "cell_type": "code",
   "execution_count": null,
   "metadata": {
    "cell_id": "00017-6df2f1b7-3ab9-45d6-bdf0-282b7a01f597",
    "deepnote_cell_type": "code",
    "deepnote_to_be_reexecuted": false,
    "execution_millis": 1337,
    "execution_start": 1618348473616,
    "output_cleared": false,
    "source_hash": "d4d72b4b",
    "tags": []
   },
   "outputs": [],
   "source": [
    "# Load images as Pillow Image objects\n",
    "im1 = Image.open(IMG_PATH+IMG+'.jpg')\n",
    "im2 = Image.open(SEG_PATH+IMG+'_segmentation.png')\n",
    "\n",
    "# Overlay the images\n",
    "im2.paste(im1, (0,0), mask = im2)\n",
    "\n",
    "# Display the overlayed image\n",
    "im2.show() # This works on Jupyter notebooks, but not deepnote\n",
    "plt.imshow(im2,cmap='gray');"
   ]
  },
  {
   "cell_type": "code",
   "execution_count": null,
   "metadata": {
    "cell_id": "00018-fb31c0b1-d6ab-45e6-b4e0-bd589862d49a",
    "deepnote_cell_type": "code",
    "deepnote_to_be_reexecuted": false,
    "execution_millis": 1637,
    "execution_start": 1618348474954,
    "output_cleared": false,
    "source_hash": "eeb93fd0",
    "tags": []
   },
   "outputs": [],
   "source": [
    "# Remove everything but the lesion using the mask\n",
    "im3 = image.copy()\n",
    "im3[mask1==0] = 0\n",
    "\n",
    "plt.imshow(im3);"
   ]
  },
  {
   "cell_type": "code",
   "execution_count": null,
   "metadata": {
    "cell_id": "00022-171eebb0-6cd2-49a7-9663-bd936e08292d",
    "deepnote_cell_type": "code",
    "deepnote_to_be_reexecuted": false,
    "execution_millis": 771,
    "execution_start": 1618348476577,
    "output_cleared": false,
    "source_hash": "d153e495",
    "tags": []
   },
   "outputs": [],
   "source": [
    "mask2 = masker(im_part, 150)\n",
    "\n",
    "struct_el = morphology.disk(5)\n",
    "opened = opening(mask2, struct_el)\n",
    "\n",
    "fig, axes = plt.subplots(nrows=1, ncols=2, figsize=(5, 3))\n",
    "axes[0].imshow(mask2, cmap='gray')\n",
    "axes[1].imshow(opened, cmap='gray')\n",
    "fig.tight_layout()"
   ]
  },
  {
   "cell_type": "code",
   "execution_count": null,
   "metadata": {
    "cell_id": "00023-330a0805-0320-48b7-9aac-6cd0cc6b460d",
    "deepnote_cell_type": "code",
    "deepnote_to_be_reexecuted": false,
    "execution_millis": 362,
    "execution_start": 1618348477343,
    "output_cleared": false,
    "source_hash": "7e9e54ce",
    "tags": []
   },
   "outputs": [],
   "source": [
    "peri_img, peri = perimeter(opened)\n",
    "\n",
    "print(f'Length: {peri:.2f}')\n",
    "\n",
    "plt.imshow(peri_img, cmap='gray');"
   ]
  },
  {
   "cell_type": "code",
   "execution_count": null,
   "metadata": {
    "cell_id": "00024-a094b78a-08af-4529-954f-fc09b08513ab",
    "deepnote_cell_type": "code",
    "deepnote_to_be_reexecuted": false,
    "execution_millis": 17,
    "execution_start": 1618348477700,
    "output_cleared": true,
    "source_hash": "f3f4f219",
    "tags": []
   },
   "outputs": [],
   "source": [
    "truth = pd.read_csv(TRUTH)"
   ]
  },
  {
   "cell_type": "code",
   "execution_count": null,
   "metadata": {
    "cell_id": "00025-2be5fb9b-d8ed-4feb-bc1c-fa885b119fd8",
    "deepnote_cell_type": "code",
    "deepnote_to_be_reexecuted": false,
    "execution_millis": 7510,
    "execution_start": 1618348477725,
    "output_cleared": true,
    "source_hash": "385f2314",
    "tags": []
   },
   "outputs": [],
   "source": [
    "working = truth[25:35].copy()\n",
    "processed = pd.DataFrame(columns = ['id','perimeter','area', 'ref_area','ratio', 'peri', 'mask','image', 'melanoma','keratosis'])\n",
    "\n",
    "c= 0\n",
    "\n",
    "for image in working['image_id']:\n",
    "    \n",
    "    image2 = plt.imread(IMG_PATH+image+'.jpg')\n",
    "    mask1 = plt.imread(SEG_PATH+image+'_segmentation.png')\n",
    "\n",
    "    #plt.imshow(mask1, cmap='gray');\n",
    "\n",
    "    mask = np.where(mask1 == 1)\n",
    "\n",
    "    x_min = min(mask[0])\n",
    "    if x_min > 100:\n",
    "        x_min -= 100\n",
    "    else:\n",
    "        x_min = 0\n",
    "    y_min = min(mask[1])\n",
    "    if y_min > 100:\n",
    "        y_min -= 100\n",
    "    else:\n",
    "        y_min = 0\n",
    "\n",
    "    x_max = max(mask[0])+100\n",
    "    y_max = max(mask[1])+100\n",
    "    \n",
    "    image3 = image2[x_min:x_max,y_min:y_max]\n",
    "    \n",
    "    area_1 = np.sum(mask1)\n",
    "    \n",
    "    mask2 = masker(image3, 120)\n",
    "    area = np.sum(mask2)\n",
    "    \n",
    "    peri_img, peri = perimeter(mask2)\n",
    "   \n",
    "    processed.loc[c] = [image, peri,area, area_1, area/area_1, peri_img, mask2,image3, working[working['image_id'] == image].iloc[0]['melanoma'], working[working['image_id'] == image].iloc[0]['seborrheic_keratosis']]\n",
    "    c+=1"
   ]
  },
  {
   "cell_type": "code",
   "execution_count": null,
   "metadata": {
    "cell_id": "00026-a6f02b36-f112-46e1-b5b8-b611453df2fa",
    "deepnote_cell_type": "code",
    "deepnote_to_be_reexecuted": false,
    "execution_millis": 46189,
    "execution_start": 1618348485242,
    "output_cleared": false,
    "source_hash": "c6b099d0",
    "tags": []
   },
   "outputs": [],
   "source": [
    "test = -1\n",
    "sorted_processed = processed.sort_values(by=['ratio'], ignore_index=True)\n",
    "sorted_processed"
   ]
  },
  {
   "cell_type": "code",
   "execution_count": null,
   "metadata": {
    "cell_id": "00027-71e0ca68-d703-4231-a93f-2204b441e15c",
    "deepnote_cell_type": "code",
    "deepnote_to_be_reexecuted": false,
    "execution_millis": 2441,
    "execution_start": 1618348531491,
    "output_cleared": false,
    "source_hash": "9f4706b0",
    "tags": []
   },
   "outputs": [],
   "source": [
    "test = test+1\n",
    "\n",
    "fig, axes = plt.subplots(nrows=1, ncols=5, figsize=(30, 20))\n",
    "axes.flatten()\n",
    "\n",
    "print(test, sorted_processed['id'][test],sorted_processed['perimeter'][test], sorted_processed['ratio'][test])\n",
    "\n",
    "\n",
    "o_mask = plt.imread(SEG_PATH+sorted_processed['id'][test]+'_segmentation.png')\n",
    "im3 = sorted_processed['image'][test].copy()\n",
    "im3[sorted_processed['mask'][test]==0] = 0\n",
    "\n",
    "axes[1].imshow(sorted_processed['image'][test], cmap='gray')\n",
    "axes[0].imshow(o_mask, cmap='gray')\n",
    "axes[2].imshow(sorted_processed['peri'][test],cmap='gray')\n",
    "axes[3].imshow(sorted_processed['mask'][test],cmap='gray')\n",
    "axes[4].imshow(im3, cmap='gray')\n",
    "\n",
    "fig.tight_layout();"
   ]
  },
  {
   "cell_type": "markdown",
   "metadata": {
    "cell_id": "00022-3ebdf22c-3a35-45b4-8e2b-acdb3713f856",
    "deepnote_cell_type": "markdown",
    "tags": []
   },
   "source": [
    "# Image Dimensions"
   ]
  },
  {
   "cell_type": "code",
   "execution_count": null,
   "metadata": {
    "cell_id": "00009-638e9752-9e56-4830-95d3-213127405d60",
    "deepnote_cell_type": "code",
    "deepnote_to_be_reexecuted": false,
    "execution_millis": 1042,
    "execution_start": 1618348533929,
    "output_cleared": false,
    "source_hash": "3fd11752",
    "tags": []
   },
   "outputs": [],
   "source": [
    "image = plt.imread(IMG_PATH+IMG+'.jpg')\n",
    "mask1 = plt.imread(SEG_PATH+IMG+'_segmentation.png')\n",
    "\n",
    "plt.imshow(mask1, cmap='gray');\n",
    "\n",
    "mask = np.where(mask1 == 1)\n",
    "\n",
    "x_min = min(mask[0])\n",
    "#if x_min > 150:\n",
    "#    x_min -= 150\n",
    "#else:\n",
    "#    x_min = 0\n",
    "y_min = min(mask[1])\n",
    "#if y_min > 150:\n",
    "#    y_min -= 150\n",
    "#else:\n",
    "#    y_min = 0\n",
    "    \n",
    "x_max = max(mask[0])#+150\n",
    "y_max = max(mask[1])#+150\n",
    "\n",
    "# Crop the image based on min and max values\n",
    "image_crop = image[x_min:x_max,y_min:y_max]\n",
    "mask1_crop = mask1[x_min:x_max,y_min:y_max]\n",
    "\n",
    "plt.imshow(mask1_crop, cmap='gray');"
   ]
  },
  {
   "cell_type": "code",
   "execution_count": null,
   "metadata": {
    "cell_id": "00010-cfad823b-a00e-4990-b24c-0877f266129a",
    "deepnote_cell_type": "code",
    "deepnote_to_be_reexecuted": false,
    "execution_millis": 315,
    "execution_start": 1618348534962,
    "output_cleared": false,
    "source_hash": "dc0cac24",
    "tags": []
   },
   "outputs": [],
   "source": [
    "# Total size of the image\n",
    "total = mask1_crop.shape[0] * mask1_crop.shape[1] \n",
    "\n",
    "# Size of mask only\n",
    "area = np.sum(mask1_crop) # this matches the given area in the features csv\n",
    "\n",
    "print(total, area)\n",
    "\n",
    "# As percentage\n",
    "print(area/total*100)\n",
    "\n",
    "plt.imshow(mask1_crop, cmap='gray');"
   ]
  },
  {
   "cell_type": "code",
   "execution_count": null,
   "metadata": {
    "cell_id": "00011-89c10a39-19ea-4aac-9b2a-5a9986992536",
    "deepnote_cell_type": "code",
    "deepnote_to_be_reexecuted": false,
    "execution_millis": 3814,
    "execution_start": 1618348535274,
    "output_cleared": false,
    "source_hash": "ef8ace7a",
    "tags": []
   },
   "outputs": [],
   "source": [
    "# Height and width of Lesion\n",
    "height, width, rot_max = dimensions(mask1)\n",
    "\n",
    "# Rotate Image based on (what exactly are the outputs of dimensions?)\n",
    "rot_img = transform.rotate(mask1,rot_max)\n",
    "\n",
    "# Another way to measure height/width\n",
    "pixels_in_col = np.max(np.sum(mask1_crop,axis=0))\n",
    "pixels_in_row = np.max(np.sum(mask1_crop,axis=1))\n",
    "\n",
    "print(f'Height: {height:.2f} \\nWidth: {width:.2f}')\n",
    "print('')\n",
    "print(f'Height: {pixels_in_col} \\nWidth: {pixels_in_row}')\n",
    "x = 455\n",
    "y = 1170\n",
    "\n",
    "fig, axes = plt.subplots(nrows=1, ncols=2, figsize=(7, 5))\n",
    "axes[0].imshow(rot_img[x:x+693,y:y+510], cmap='gray')\n",
    "axes[1].imshow(mask1_crop, cmap='gray')\n",
    "fig.tight_layout();"
   ]
  },
  {
   "cell_type": "markdown",
   "metadata": {
    "cell_id": "00026-d22456b7-dfda-4609-b224-e874887b1cff",
    "deepnote_cell_type": "markdown",
    "tags": []
   },
   "source": [
    "# Lesion Perimeter"
   ]
  },
  {
   "cell_type": "code",
   "execution_count": null,
   "metadata": {
    "cell_id": "00012-736099cc-7d9e-4cc3-9c4c-d23834e8ee5f",
    "deepnote_cell_type": "code",
    "deepnote_to_be_reexecuted": false,
    "execution_millis": 1336,
    "execution_start": 1618348539095,
    "output_cleared": false,
    "source_hash": "1b3365bd",
    "tags": []
   },
   "outputs": [],
   "source": [
    "image_perimeter, peri = perimeter(rot_img)\n",
    "img_2, peri2 = perimeter(mask1_crop) #the non-rotated image matches the features.csv\n",
    "\n",
    "print(f'Length: {peri:.2f}')\n",
    "print(f'Length: {peri2:.2f}') #not sure why these would be different... bit concerning\n",
    "\n",
    "fig, axes = plt.subplots(nrows=1, ncols=2, figsize=(7, 5))\n",
    "axes[0].imshow(image_perimeter, cmap='gray')\n",
    "axes[1].imshow(img_2, cmap='gray')\n",
    "fig.tight_layout();"
   ]
  },
  {
   "cell_type": "code",
   "execution_count": null,
   "metadata": {
    "cell_id": "00028-b607094a-03d6-4261-a6ff-779e1a77abbe",
    "deepnote_cell_type": "code",
    "deepnote_to_be_reexecuted": false,
    "execution_millis": 2490,
    "execution_start": 1618348540443,
    "output_cleared": false,
    "source_hash": "3e8319c",
    "tags": []
   },
   "outputs": [],
   "source": [
    "# Structural element, used as a brush on the mask\n",
    "struct_el = morphology.disk(20)\n",
    "\n",
    "mask_eroded = morphology.binary_erosion(mask1,struct_el)\n",
    "\n",
    "# Show original and eroded side by side\n",
    "fig, axes = plt.subplots(nrows=1, ncols=2, figsize=(7, 4))\n",
    "axes[0].imshow(mask1, cmap='gray')\n",
    "axes[1].imshow(mask_eroded, cmap='gray')\n",
    "fig.tight_layout()\n",
    "\n",
    "# Verify it's smaller\n",
    "print(area)\n",
    "print(np.sum(mask_eroded))"
   ]
  },
  {
   "cell_type": "code",
   "execution_count": null,
   "metadata": {
    "cell_id": "00029-0f3a677c-01bd-4928-a3db-d7064585f77f",
    "deepnote_cell_type": "code",
    "deepnote_to_be_reexecuted": false,
    "execution_millis": 949,
    "execution_start": 1618348542942,
    "output_cleared": false,
    "source_hash": "79d06870",
    "tags": []
   },
   "outputs": [],
   "source": [
    "# Subtract the two masks from each other to get the border/perimeter\n",
    "image_perimeter = mask1 - mask_eroded\n",
    "\n",
    "plt.imshow(image_perimeter, cmap='gray')\n",
    "\n",
    "# length of the perimeter (will only be a 'true' length if the brush is 1)\n",
    "print(np.sum(image_perimeter))"
   ]
  },
  {
   "cell_type": "code",
   "execution_count": null,
   "metadata": {
    "cell_id": "00013-08c7eb9f-441e-4fb0-a358-c7b77ef16027",
    "deepnote_cell_type": "code",
    "deepnote_to_be_reexecuted": false,
    "execution_millis": 39,
    "execution_start": 1618348543894,
    "output_cleared": false,
    "source_hash": "6dac923d",
    "tags": []
   },
   "outputs": [],
   "source": [
    "'''I was trying to compare the lesion to the 'perfect circle'\n",
    "that would share the same area/perimeter. I was hoping deviations\n",
    "from this would be more pronounced in cancerous lesions, but meh.'''\n",
    "\n",
    "rad_from_peri = peri/(2*pi) #calc radius of the circle with matching circumference\n",
    "rad_from_area = sqrt(area/pi) #calc radius of the circle with matching area\n",
    "\n",
    "est_circ = 2*pi*rad_from_area #calc circumference of the circle with matching area\n",
    "est_area = pi*rad_from_peri**2 #calc area of the circle with match circumference\n",
    "\n",
    "#print the differences between the actual and circle circumference and areas.\n",
    "print(f'Difference in circumference: {abs(peri-est_circ):.2f} \\nDifference in area: {abs(area-est_area):.2f}')"
   ]
  },
  {
   "cell_type": "code",
   "execution_count": null,
   "metadata": {
    "cell_id": "00018-e32409ff-5b24-427e-897b-b69adc246b51",
    "deepnote_cell_type": "code",
    "deepnote_to_be_reexecuted": false,
    "execution_millis": 1,
    "execution_start": 1618348543917,
    "output_cleared": true,
    "source_hash": "b623e53d",
    "tags": []
   },
   "outputs": [],
   "source": []
  },
  {
   "cell_type": "markdown",
   "metadata": {
    "cell_id": "00020-5293fd19-5d99-46b9-9597-4dca43ba67db",
    "deepnote_cell_type": "markdown",
    "tags": []
   },
   "source": [
    "# Testing Symmetry"
   ]
  },
  {
   "cell_type": "code",
   "execution_count": null,
   "metadata": {
    "cell_id": "00020-34592ee5-607f-4e31-b340-a214ddcd353f",
    "deepnote_cell_type": "code",
    "deepnote_to_be_reexecuted": false,
    "execution_millis": 1078,
    "execution_start": 1618348543923,
    "output_cleared": false,
    "source_hash": "4bfcd358",
    "tags": []
   },
   "outputs": [],
   "source": [
    "test_symmetry(mask1)"
   ]
  },
  {
   "cell_type": "markdown",
   "metadata": {
    "cell_id": "00014-a35e1f70-9795-4ef8-85e4-e3f0afc5be5b",
    "deepnote_cell_type": "markdown",
    "tags": []
   },
   "source": [
    "# Load Dataframes"
   ]
  },
  {
   "cell_type": "code",
   "execution_count": null,
   "metadata": {
    "cell_id": "00014-9c8cd71f-040a-4dab-ae14-57b61381a9c0",
    "deepnote_cell_type": "code",
    "deepnote_to_be_reexecuted": true,
    "execution_millis": 21,
    "output_cleared": false,
    "source_hash": "fbbd8318",
    "tags": []
   },
   "outputs": [],
   "source": [
    "truth = pd.read_csv(TRUTH)\n",
    "features = pd.read_csv(FEATURES)\n",
    "\n",
    "truth.head()"
   ]
  },
  {
   "cell_type": "code",
   "execution_count": null,
   "metadata": {
    "cell_id": "00016-13c92701-17db-49da-bfa9-9b76de2eb43c",
    "deepnote_cell_type": "code",
    "deepnote_to_be_reexecuted": true,
    "execution_millis": 16,
    "output_cleared": false,
    "source_hash": "f9c1fd9b",
    "tags": []
   },
   "outputs": [],
   "source": [
    "cancer = truth[truth['melanoma'] == 1]\n",
    "cancer.shape"
   ]
  },
  {
   "cell_type": "code",
   "execution_count": null,
   "metadata": {
    "cell_id": "00017-6b56816a-2edb-4cdc-bc46-3e4ecd55e9e2",
    "deepnote_cell_type": "code",
    "deepnote_to_be_reexecuted": true,
    "execution_millis": 32,
    "output_cleared": false,
    "source_hash": "8b1ac603",
    "tags": []
   },
   "outputs": [],
   "source": [
    "merged_features = features.merge(truth, left_on=['id'],right_on=['image_id'])\n",
    "merged_features.head()"
   ]
  },
  {
   "cell_type": "code",
   "execution_count": null,
   "metadata": {
    "cell_id": "00018-c8c32323-353e-46fe-aa7a-399ad976705c",
    "deepnote_cell_type": "code",
    "deepnote_to_be_reexecuted": true,
    "execution_millis": 641,
    "output_cleared": false,
    "source_hash": "464f98b5",
    "tags": []
   },
   "outputs": [],
   "source": [
    "mel = merged_features[merged_features['melanoma']==1.0]\n",
    "kera = merged_features[merged_features['seborrheic_keratosis']==1.0]\n",
    "clear = merged_features[(merged_features['melanoma']==0.0) & (merged_features['seborrheic_keratosis']==0.0)]\n",
    "\n",
    "fig, axes = plt.subplots(nrows=1, ncols=1, figsize=(20, 20))\n",
    "\n",
    "plt.scatter(clear['perimeter'], clear['area'], c='blue')\n",
    "plt.scatter(kera['perimeter'], kera['area'], c='green')\n",
    "plt.scatter(mel['perimeter'], mel['area'], c='red')\n",
    "plt.xscale('log')\n",
    "plt.yscale('log');"
   ]
  },
  {
   "cell_type": "code",
   "execution_count": null,
   "metadata": {
    "cell_id": "00019-c8d0cfb7-86d6-49d5-9262-483d04a90a55",
    "deepnote_cell_type": "code",
    "deepnote_to_be_reexecuted": true,
    "execution_millis": 364,
    "output_cleared": true,
    "source_hash": "f1a42182",
    "tags": []
   },
   "outputs": [],
   "source": [
    "#Look at colour...\n",
    "IMG = 'ISIC_0012254'\n",
    "image = plt.imread(IMG_PATH+IMG+'.jpg')\n",
    "mask1 = plt.imread(SEG_PATH+IMG+'_segmentation.png')\n",
    "\n",
    "\n",
    "def colour(image, mask, show=False):\n",
    "    \n",
    "    rgb = image.copy()\n",
    "    \n",
    "    rgb[mask==0]= 0\n",
    "    \n",
    "    r, g, b = rgb[:,:,0], rgb[:,:,1], rgb[:,:,2]\n",
    "    \n",
    "    area = np.sum(mask)\n",
    "    \n",
    "    r_av = (r.sum()/area) #average r value\n",
    "    g_av = (g.sum()/area) #average g value\n",
    "    b_av = (b.sum()/area) #average b value\n",
    "    \n",
    "    difference_r = rgb[:,:,0] - r_av #find the difference \n",
    "    difference_g = rgb[:,:,1] - g_av\n",
    "    difference_b = rgb[:,:,2] - b_av\n",
    "    \n",
    "    difference_r[difference_r == -r_av] = 0\n",
    "    difference_g[difference_g == -g_av] = 0\n",
    "    difference_b[difference_b == -b_av] = 0\n",
    "    \n",
    "    #plt.imshow(difference_r, cmap='gray')\n",
    "    #print(mask.shape, difference_r.shape)\n",
    "    \n",
    "    if show:\n",
    "        fig, axes = plt.subplots(nrows=2, ncols=2, figsize=(20, 20))\n",
    "        axes = axes.flatten()\n",
    "\n",
    "        axes[0].imshow(rgb)\n",
    "        axes[1].imshow(r, cmap='gray')\n",
    "        axes[2].imshow(g, cmap='gray')\n",
    "        axes[3].imshow(b, cmap='gray')\n",
    "        fig.tight_layout()\n",
    "    \n",
    "    return np.absolute(difference_r).sum()/area,np.absolute(difference_g).sum()/area,np.absolute(difference_b).sum()/area\n",
    "\n",
    "\n",
    "r,g,b = colour(image, mask1)\n",
    "#print(r,g,b)"
   ]
  },
  {
   "cell_type": "code",
   "execution_count": null,
   "metadata": {
    "cell_id": "00020-be0ada47-a5d4-4f30-a03d-c4c063a0e61f",
    "deepnote_cell_type": "code",
    "deepnote_to_be_reexecuted": true,
    "execution_millis": 29675,
    "output_cleared": false,
    "source_hash": "6a5f3cca",
    "tags": []
   },
   "outputs": [],
   "source": [
    "rgb_truth = truth.copy()\n",
    "R=[]\n",
    "G=[]\n",
    "B=[]\n",
    "T = []\n",
    "c=0\n",
    "\n",
    "for name in rgb_truth['image_id']:\n",
    "    i = plt.imread(IMG_PATH+name+'.jpg')\n",
    "    m = plt.imread(SEG_PATH+name+'_segmentation.png')\n",
    "    \n",
    "    r,g,b = colour(i, m)\n",
    "    t = r+g+b\n",
    "    R.append(r)\n",
    "    G.append(g)\n",
    "    B.append(b)\n",
    "    T.append(t)\n",
    "    #print((r,g,b))\n",
    "    \n",
    "    c+=1\n",
    "    \n",
    "rgb_truth.insert(0, 'r', R)\n",
    "rgb_truth.insert(0, 'g', G)\n",
    "rgb_truth.insert(0, 'b', B)\n",
    "rgb_truth.insert(0, 't', T)\n"
   ]
  },
  {
   "cell_type": "code",
   "execution_count": null,
   "metadata": {
    "cell_id": "00032-03dd3705-61e1-4ac6-88c4-8922531adc3f",
    "deepnote_cell_type": "code",
    "deepnote_to_be_reexecuted": true,
    "execution_millis": 1473,
    "output_cleared": true,
    "source_hash": "d56bd4b",
    "tags": []
   },
   "outputs": [],
   "source": [
    "mel = rgb_truth[rgb_truth['melanoma']==1.0]\n",
    "kera = rgb_truth[rgb_truth['seborrheic_keratosis']==1.0]\n",
    "clear = rgb_truth[(rgb_truth['melanoma']==0.0) & (rgb_truth['seborrheic_keratosis']==0.0)]\n",
    "                  \n",
    "fig, axes = plt.subplots(nrows=3, ncols=3, figsize=(20, 20))\n",
    "axes = axes.flatten()\n",
    "b = 30\n",
    "d = False\n",
    "axes[0].hist(clear['r'], bins=b, color='red', density=d)\n",
    "axes[1].hist(clear['g'], bins=b,color='green', density=d)\n",
    "axes[2].hist(clear['b'], bins=b,color='blue', density=d);\n",
    "\n",
    "axes[3].hist(mel['r'], bins=b,color='red', density=d)\n",
    "axes[4].hist(mel['g'], bins=b,color='green', density=d)\n",
    "axes[5].hist(mel['b'], bins=b,color='blue', density=d);\n",
    "\n",
    "axes[6].hist(kera['r'], bins=b,color='red', density=d)\n",
    "axes[7].hist(kera['g'], bins=b,color='green', density=d)\n",
    "axes[8].hist(kera['b'], bins=b,color='blue', density=d);\n",
    "\n",
    "axes[0].set_title('clear red channel')\n",
    "axes[1].set_title('clear green channel')\n",
    "axes[2].set_title('clear blue channel')\n",
    "\n",
    "axes[3].set_title('mel red channel')\n",
    "axes[4].set_title('mel green channel')\n",
    "axes[5].set_title('mel blue channel')\n",
    "\n",
    "axes[6].set_title('kera red channel')\n",
    "axes[7].set_title('kera green channel')\n",
    "axes[8].set_title('kera blue channel');\n",
    "\n",
    "for i in range(9):\n",
    "    axes[i].set_ylim([0,14])\n",
    "    axes[i].set_xlim(0,70);"
   ]
  },
  {
   "cell_type": "code",
   "execution_count": null,
   "metadata": {
    "cell_id": "00043-39aa6d84-9fb8-42c6-bcf5-fe6d177a2237",
    "deepnote_cell_type": "code",
    "deepnote_to_be_reexecuted": true,
    "execution_millis": 512,
    "output_cleared": true,
    "source_hash": "bd77d5af",
    "tags": []
   },
   "outputs": [],
   "source": [
    "fig, axes = plt.subplots(nrows=3, ncols=1, figsize=(20, 20))\n",
    "axes = axes.flatten()\n",
    "b = 30\n",
    "d = True\n",
    "axes[0].hist(clear['t'], bins=b, color='purple', density=d)\n",
    "\n",
    "axes[1].hist(mel['t'], bins=b,color='purple', density=d)\n",
    "\n",
    "axes[2].hist(kera['t'], bins=b,color='purple', density=d)\n",
    "\n",
    "axes[0].set_title('clear all channel')\n",
    "axes[1].set_title('mel all channel')\n",
    "axes[2].set_title('kera all channel');\n",
    "\n",
    "for i in range(3):\n",
    "    axes[i].set_ylim([0,0.035])\n",
    "    axes[i].set_xlim(0,250);"
   ]
  },
  {
   "cell_type": "code",
   "execution_count": null,
   "metadata": {
    "cell_id": "00044-bec02583-edb9-47e2-9599-084472bd3d65",
    "deepnote_cell_type": "code",
    "deepnote_to_be_reexecuted": true,
    "execution_millis": 3,
    "output_cleared": true,
    "source_hash": "b623e53d",
    "tags": []
   },
   "outputs": [],
   "source": []
  },
  {
   "cell_type": "markdown",
   "metadata": {
    "created_in_deepnote_cell": true,
    "deepnote_cell_type": "markdown",
    "tags": []
   },
   "source": [
    "<a style='text-decoration:none;line-height:16px;display:flex;color:#5B5B62;padding:10px;justify-content:end;' href='https://deepnote.com?utm_source=created-in-deepnote-cell&projectId=16085576-0af6-4fbb-80e7-c9ae882b63ec' target=\"_blank\">\n",
    "<img alt='Created in deepnote.com' style='display:inline;max-height:16px;margin:0px;margin-right:7.5px;' src='data:image/svg+xml;base64,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' > </img>\n",
    "Created in <span style='font-weight:600;margin-left:4px;'>Deepnote</span></a>"
   ]
  }
 ],
 "metadata": {
  "deepnote": {
   "is_reactive": false
  },
  "deepnote_execution_queue": [],
  "deepnote_notebook_id": "42f823a4-cf17-4174-b6c7-b059b1666be9",
  "kernelspec": {
   "display_name": "Python 3",
   "language": "python",
   "name": "python3"
  },
  "language_info": {
   "codemirror_mode": {
    "name": "ipython",
    "version": 3
   },
   "file_extension": ".py",
   "mimetype": "text/x-python",
   "name": "python",
   "nbconvert_exporter": "python",
   "pygments_lexer": "ipython3",
   "version": "3.8.5"
  }
 },
 "nbformat": 4,
 "nbformat_minor": 2
}
